{
 "cells": [
  {
   "cell_type": "code",
   "execution_count": 16,
   "metadata": {},
   "outputs": [
    {
     "name": "stdout",
     "output_type": "stream",
     "text": [
      "['c', 'd', ['e', 'f']]\n",
      "['e', 'f']\n",
      "e\n"
     ]
    }
   ],
   "source": [
    "lst = ['a', 'b', ['c', 'd', ['e', 'f']], 'g']\n",
    "\n",
    "print(lst[-2])\n",
    "\n",
    "print(lst[-2][-1])\n",
    "\n",
    "print(lst[-2][-1][0])"
   ]
  },
  {
   "cell_type": "code",
   "execution_count": 27,
   "metadata": {},
   "outputs": [
    {
     "name": "stdout",
     "output_type": "stream",
     "text": [
      "[100, 'python', [200.5, 300], 50.8, 'a']\n"
     ]
    }
   ],
   "source": [
    "lst = [100,'python',[200,300],50.8,'a']  \n",
    "\n",
    "lst[2][0] = 200.50\n",
    "print (lst)"
   ]
  },
  {
   "cell_type": "code",
   "execution_count": 29,
   "metadata": {},
   "outputs": [
    {
     "name": "stdout",
     "output_type": "stream",
     "text": [
      "[100, 'python', 50.8, 'a', [200, 2500.55]]\n"
     ]
    }
   ],
   "source": [
    "lst2 = [100,'python',50.8,'a']  \n",
    "\n",
    "lst3 = [200,2500.55]\n",
    "lst2.append(lst3)\n",
    "print (lst2)"
   ]
  },
  {
   "cell_type": "code",
   "execution_count": 30,
   "metadata": {},
   "outputs": [
    {
     "name": "stdout",
     "output_type": "stream",
     "text": [
      "[100, 'python', [200, 300], 50.8, 'a']\n",
      "['python', [200, 300], 50.8, 'a']\n"
     ]
    }
   ],
   "source": [
    "lst = [100,'python',[200,300],50.8,'a']  \n",
    "print(lst)\n",
    "\n",
    "del lst[0]\n",
    "print(lst)"
   ]
  },
  {
   "cell_type": "code",
   "execution_count": 31,
   "metadata": {},
   "outputs": [
    {
     "name": "stdout",
     "output_type": "stream",
     "text": [
      "[100, 'python', [200, 300], 50.8, 'a']\n",
      "[[200, 300], 50.8, 'a']\n"
     ]
    }
   ],
   "source": [
    "lst = [100,'python',[200,300],50.8,'a']  \n",
    "print(lst)\n",
    "\n",
    "del lst[0:2]\n",
    "print(lst)"
   ]
  },
  {
   "cell_type": "code",
   "execution_count": 33,
   "metadata": {},
   "outputs": [],
   "source": [
    "lst = [100,'python',[200,300],50.8,'a']  \n",
    "del lst\n",
    "#print(lst)"
   ]
  },
  {
   "cell_type": "code",
   "execution_count": null,
   "metadata": {},
   "outputs": [],
   "source": [
    "lst = [100,'python',[200,300],50.8,'a']  \n",
    "del lst[2][0]\n",
    "#print(lst)"
   ]
  },
  {
   "cell_type": "code",
   "execution_count": null,
   "metadata": {},
   "outputs": [],
   "source": [
    "lst = [100,'python',[200,300],50.8,'a']  \n",
    "print(lst[0:2])\n",
    "print(lst[2:3])\n",
    "print(lst[:])"
   ]
  },
  {
   "cell_type": "code",
   "execution_count": null,
   "metadata": {},
   "outputs": [],
   "source": [
    "lst = [100,'python',[200,300],50.8,'a']  \n",
    "print(lst[-3:-5])\n",
    "print(lst[-5:-3])\n",
    "print(lst[-5:-1])"
   ]
  },
  {
   "cell_type": "code",
   "execution_count": null,
   "metadata": {},
   "outputs": [],
   "source": [
    "lst = [100,'python',[200,300],50.8,'a']  \n",
    "print(lst[:1])\n",
    "print(lst[1:])\n",
    "print(lst[-1:])\n",
    "print(lst[:-1])"
   ]
  },
  {
   "cell_type": "code",
   "execution_count": null,
   "metadata": {},
   "outputs": [],
   "source": [
    "lst = [100,'python',[200,300],50.8,'a']  \n",
    "\n",
    "lst_slice = slice(-1, -4, -1)\n",
    "\n",
    "print(lst[lst_slice]) "
   ]
  },
  {
   "cell_type": "code",
   "execution_count": null,
   "metadata": {},
   "outputs": [],
   "source": [
    "lst = [100,'python',[200,300],50.8,'a']  \n",
    "\n",
    "lst_slice = slice(3)\n",
    "\n",
    "print(lst[lst_slice]) "
   ]
  },
  {
   "cell_type": "code",
   "execution_count": 45,
   "metadata": {},
   "outputs": [
    {
     "name": "stdout",
     "output_type": "stream",
     "text": [
      "[1, 2, 3, 4, 5, 6]\n",
      "[1, 2, 3]\n"
     ]
    }
   ],
   "source": [
    "lst1 = [1, 2, 3]\n",
    "print(lst1 + [4, 5, 6])\n",
    "print(lst1)"
   ]
  },
  {
   "cell_type": "code",
   "execution_count": 55,
   "metadata": {},
   "outputs": [
    {
     "name": "stdout",
     "output_type": "stream",
     "text": [
      "['a', ['b', 'c', 'python'], 'd']\n"
     ]
    }
   ],
   "source": [
    "lst = ['a', ['b', 'c'], 'd']\n",
    "lst[1].append('python')\n",
    "print(lst)"
   ]
  },
  {
   "cell_type": "code",
   "execution_count": 56,
   "metadata": {},
   "outputs": [
    {
     "name": "stdout",
     "output_type": "stream",
     "text": [
      "['a', ['python', 'b', 'c'], 'd']\n"
     ]
    }
   ],
   "source": [
    "lst = ['a', ['b', 'c'], 'd']\n",
    "lst[1].insert(0,'python')\n",
    "print(lst)"
   ]
  },
  {
   "cell_type": "code",
   "execution_count": 66,
   "metadata": {},
   "outputs": [
    {
     "name": "stdout",
     "output_type": "stream",
     "text": [
      "['a', ['b', 'c', 'p', 'y', 't', 'h', 'o', 'n'], 'd']\n"
     ]
    }
   ],
   "source": [
    "lst = ['a', ['b', 'c'], 'd']\n",
    "lst[1].extend(\"python\")\n",
    "print(lst)"
   ]
  },
  {
   "cell_type": "code",
   "execution_count": 7,
   "metadata": {},
   "outputs": [
    {
     "name": "stdout",
     "output_type": "stream",
     "text": [
      "[[1, 2], [3, 4]]\n",
      "[[5, 6], [7, 8]]\n",
      "[5, 6]\n",
      "5\n"
     ]
    }
   ],
   "source": [
    "lst = [[[1, 2], [3, 4]], [[5, 6], [7, 8]]]\n",
    "print(lst[0])\n",
    "print(lst[1])\n",
    "print(lst[1][0])\n",
    "print(lst[1][0][0])"
   ]
  },
  {
   "cell_type": "code",
   "execution_count": 1,
   "metadata": {},
   "outputs": [
    {
     "name": "stdout",
     "output_type": "stream",
     "text": [
      "[1, 2, 3, 4, 5]\n"
     ]
    }
   ],
   "source": [
    "# Function to remove duplicates from a list\n",
    "\n",
    "lst = [1, 2, 2, 3, 4, 5]\n",
    "\n",
    "uniq_lst= []\n",
    "\n",
    "for x in lst:\n",
    "    if x not in uniq_lst:\n",
    "        uniq_lst.append(x)\n",
    "\n",
    "print(uniq_lst)"
   ]
  },
  {
   "cell_type": "code",
   "execution_count": 2,
   "metadata": {},
   "outputs": [
    {
     "name": "stdout",
     "output_type": "stream",
     "text": [
      "[1, 2, 3, 4, 5]\n"
     ]
    }
   ],
   "source": [
    "lst = [1, 2, 2, 3, 4, 5]\n",
    "\n",
    "uniq_lst = list(set(lst))\n",
    "print(uniq_lst)  "
   ]
  },
  {
   "cell_type": "code",
   "execution_count": null,
   "metadata": {},
   "outputs": [],
   "source": []
  }
 ],
 "metadata": {
  "kernelspec": {
   "display_name": "Python 3",
   "language": "python",
   "name": "python3"
  },
  "language_info": {
   "codemirror_mode": {
    "name": "ipython",
    "version": 3
   },
   "file_extension": ".py",
   "mimetype": "text/x-python",
   "name": "python",
   "nbconvert_exporter": "python",
   "pygments_lexer": "ipython3",
   "version": "3.7.6"
  }
 },
 "nbformat": 4,
 "nbformat_minor": 2
}

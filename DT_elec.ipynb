{
  "nbformat": 4,
  "nbformat_minor": 0,
  "metadata": {
    "colab": {
      "name": "DT elec.ipynb",
      "provenance": [],
      "collapsed_sections": []
    },
    "kernelspec": {
      "name": "python3",
      "display_name": "Python 3"
    },
    "language_info": {
      "name": "python"
    }
  },
  "cells": [
    {
      "cell_type": "code",
      "metadata": {
        "colab": {
          "base_uri": "https://localhost:8080/"
        },
        "id": "dFJbc4G4NO1O",
        "outputId": "e59f32e8-7968-4201-b3a6-5ba37ddbead3"
      },
      "source": [
        "from google.colab import drive\n",
        "drive.mount(\"/content/gdrive\")"
      ],
      "execution_count": 2,
      "outputs": [
        {
          "output_type": "stream",
          "text": [
            "Drive already mounted at /content/gdrive; to attempt to forcibly remount, call drive.mount(\"/content/gdrive\", force_remount=True).\n"
          ],
          "name": "stdout"
        }
      ]
    },
    {
      "cell_type": "code",
      "metadata": {
        "id": "RbmS1GNcNYlR"
      },
      "source": [
        "from sklearn.tree import DecisionTreeClassifier\n",
        "from sklearn.model_selection import train_test_split\n",
        "import pandas as pd\n",
        "\n",
        "from sklearn.metrics import accuracy_score"
      ],
      "execution_count": 3,
      "outputs": []
    },
    {
      "cell_type": "code",
      "metadata": {
        "id": "D-4RqjoMOdbx"
      },
      "source": [
        "data = pd.read_csv('/content/gdrive/My Drive/DT on electronics/Computer_DTree.csv')"
      ],
      "execution_count": 4,
      "outputs": []
    },
    {
      "cell_type": "code",
      "metadata": {
        "colab": {
          "base_uri": "https://localhost:8080/"
        },
        "id": "m4cl9ua2Odek",
        "outputId": "e1eb6a4b-af19-4f91-a1c2-6bf4027cdfd3"
      },
      "source": [
        "print(data)"
      ],
      "execution_count": 5,
      "outputs": [
        {
          "output_type": "stream",
          "text": [
            "            age  income student credit_rating buys_computer\n",
            "0         youth    high      no          fair            no\n",
            "1         youth    high      no     excellent            no\n",
            "2   middle_aged    high      no          fair           yes\n",
            "3        senior  medium      no          fair           yes\n",
            "4        senior     low     yes          fair           yes\n",
            "5        senior     low     yes     excellent            no\n",
            "6   middle_aged     low     yes     excellent           yes\n",
            "7         youth  medium      no          fair            no\n",
            "8         youth     low     yes          fair           yes\n",
            "9        senior  medium     yes          fair           yes\n",
            "10        youth  medium     yes     excellent           yes\n",
            "11  middle_aged  medium      no     excellent           yes\n",
            "12  middle_aged    high     yes          fair           yes\n",
            "13       senior  medium      no     excellent            no\n"
          ],
          "name": "stdout"
        }
      ]
    },
    {
      "cell_type": "code",
      "metadata": {
        "colab": {
          "base_uri": "https://localhost:8080/"
        },
        "id": "y1lZwCG3SBwA",
        "outputId": "bd013e87-c214-4a66-92e0-4c0cafb24b70"
      },
      "source": [
        "data2=data.copy()\n",
        "data_t = {\"buys_computer\": {\"yes\": 1, \"no\": 0}}\n",
        "data2.replace(data_t, inplace=True)\n",
        "print(data2)"
      ],
      "execution_count": 6,
      "outputs": [
        {
          "output_type": "stream",
          "text": [
            "            age  income student credit_rating  buys_computer\n",
            "0         youth    high      no          fair              0\n",
            "1         youth    high      no     excellent              0\n",
            "2   middle_aged    high      no          fair              1\n",
            "3        senior  medium      no          fair              1\n",
            "4        senior     low     yes          fair              1\n",
            "5        senior     low     yes     excellent              0\n",
            "6   middle_aged     low     yes     excellent              1\n",
            "7         youth  medium      no          fair              0\n",
            "8         youth     low     yes          fair              1\n",
            "9        senior  medium     yes          fair              1\n",
            "10        youth  medium     yes     excellent              1\n",
            "11  middle_aged  medium      no     excellent              1\n",
            "12  middle_aged    high     yes          fair              1\n",
            "13       senior  medium      no     excellent              0\n"
          ],
          "name": "stdout"
        }
      ]
    },
    {
      "cell_type": "code",
      "metadata": {
        "id": "ptl2HDPZOGEH"
      },
      "source": [
        "x=data2.iloc[:,0:4]\n",
        "y=data2.iloc[:,4]"
      ],
      "execution_count": 7,
      "outputs": []
    },
    {
      "cell_type": "code",
      "metadata": {
        "colab": {
          "base_uri": "https://localhost:8080/",
          "height": 483
        },
        "id": "rMk1cwc7Rcw6",
        "outputId": "c703629f-398b-4d59-8ee8-f15992c7244d"
      },
      "source": [
        "x1=pd.get_dummies(x)\n",
        "x1"
      ],
      "execution_count": 8,
      "outputs": [
        {
          "output_type": "execute_result",
          "data": {
            "text/html": [
              "<div>\n",
              "<style scoped>\n",
              "    .dataframe tbody tr th:only-of-type {\n",
              "        vertical-align: middle;\n",
              "    }\n",
              "\n",
              "    .dataframe tbody tr th {\n",
              "        vertical-align: top;\n",
              "    }\n",
              "\n",
              "    .dataframe thead th {\n",
              "        text-align: right;\n",
              "    }\n",
              "</style>\n",
              "<table border=\"1\" class=\"dataframe\">\n",
              "  <thead>\n",
              "    <tr style=\"text-align: right;\">\n",
              "      <th></th>\n",
              "      <th>age_middle_aged</th>\n",
              "      <th>age_senior</th>\n",
              "      <th>age_youth</th>\n",
              "      <th>income_high</th>\n",
              "      <th>income_low</th>\n",
              "      <th>income_medium</th>\n",
              "      <th>student_no</th>\n",
              "      <th>student_yes</th>\n",
              "      <th>credit_rating_excellent</th>\n",
              "      <th>credit_rating_fair</th>\n",
              "    </tr>\n",
              "  </thead>\n",
              "  <tbody>\n",
              "    <tr>\n",
              "      <th>0</th>\n",
              "      <td>0</td>\n",
              "      <td>0</td>\n",
              "      <td>1</td>\n",
              "      <td>1</td>\n",
              "      <td>0</td>\n",
              "      <td>0</td>\n",
              "      <td>1</td>\n",
              "      <td>0</td>\n",
              "      <td>0</td>\n",
              "      <td>1</td>\n",
              "    </tr>\n",
              "    <tr>\n",
              "      <th>1</th>\n",
              "      <td>0</td>\n",
              "      <td>0</td>\n",
              "      <td>1</td>\n",
              "      <td>1</td>\n",
              "      <td>0</td>\n",
              "      <td>0</td>\n",
              "      <td>1</td>\n",
              "      <td>0</td>\n",
              "      <td>1</td>\n",
              "      <td>0</td>\n",
              "    </tr>\n",
              "    <tr>\n",
              "      <th>2</th>\n",
              "      <td>1</td>\n",
              "      <td>0</td>\n",
              "      <td>0</td>\n",
              "      <td>1</td>\n",
              "      <td>0</td>\n",
              "      <td>0</td>\n",
              "      <td>1</td>\n",
              "      <td>0</td>\n",
              "      <td>0</td>\n",
              "      <td>1</td>\n",
              "    </tr>\n",
              "    <tr>\n",
              "      <th>3</th>\n",
              "      <td>0</td>\n",
              "      <td>1</td>\n",
              "      <td>0</td>\n",
              "      <td>0</td>\n",
              "      <td>0</td>\n",
              "      <td>1</td>\n",
              "      <td>1</td>\n",
              "      <td>0</td>\n",
              "      <td>0</td>\n",
              "      <td>1</td>\n",
              "    </tr>\n",
              "    <tr>\n",
              "      <th>4</th>\n",
              "      <td>0</td>\n",
              "      <td>1</td>\n",
              "      <td>0</td>\n",
              "      <td>0</td>\n",
              "      <td>1</td>\n",
              "      <td>0</td>\n",
              "      <td>0</td>\n",
              "      <td>1</td>\n",
              "      <td>0</td>\n",
              "      <td>1</td>\n",
              "    </tr>\n",
              "    <tr>\n",
              "      <th>5</th>\n",
              "      <td>0</td>\n",
              "      <td>1</td>\n",
              "      <td>0</td>\n",
              "      <td>0</td>\n",
              "      <td>1</td>\n",
              "      <td>0</td>\n",
              "      <td>0</td>\n",
              "      <td>1</td>\n",
              "      <td>1</td>\n",
              "      <td>0</td>\n",
              "    </tr>\n",
              "    <tr>\n",
              "      <th>6</th>\n",
              "      <td>1</td>\n",
              "      <td>0</td>\n",
              "      <td>0</td>\n",
              "      <td>0</td>\n",
              "      <td>1</td>\n",
              "      <td>0</td>\n",
              "      <td>0</td>\n",
              "      <td>1</td>\n",
              "      <td>1</td>\n",
              "      <td>0</td>\n",
              "    </tr>\n",
              "    <tr>\n",
              "      <th>7</th>\n",
              "      <td>0</td>\n",
              "      <td>0</td>\n",
              "      <td>1</td>\n",
              "      <td>0</td>\n",
              "      <td>0</td>\n",
              "      <td>1</td>\n",
              "      <td>1</td>\n",
              "      <td>0</td>\n",
              "      <td>0</td>\n",
              "      <td>1</td>\n",
              "    </tr>\n",
              "    <tr>\n",
              "      <th>8</th>\n",
              "      <td>0</td>\n",
              "      <td>0</td>\n",
              "      <td>1</td>\n",
              "      <td>0</td>\n",
              "      <td>1</td>\n",
              "      <td>0</td>\n",
              "      <td>0</td>\n",
              "      <td>1</td>\n",
              "      <td>0</td>\n",
              "      <td>1</td>\n",
              "    </tr>\n",
              "    <tr>\n",
              "      <th>9</th>\n",
              "      <td>0</td>\n",
              "      <td>1</td>\n",
              "      <td>0</td>\n",
              "      <td>0</td>\n",
              "      <td>0</td>\n",
              "      <td>1</td>\n",
              "      <td>0</td>\n",
              "      <td>1</td>\n",
              "      <td>0</td>\n",
              "      <td>1</td>\n",
              "    </tr>\n",
              "    <tr>\n",
              "      <th>10</th>\n",
              "      <td>0</td>\n",
              "      <td>0</td>\n",
              "      <td>1</td>\n",
              "      <td>0</td>\n",
              "      <td>0</td>\n",
              "      <td>1</td>\n",
              "      <td>0</td>\n",
              "      <td>1</td>\n",
              "      <td>1</td>\n",
              "      <td>0</td>\n",
              "    </tr>\n",
              "    <tr>\n",
              "      <th>11</th>\n",
              "      <td>1</td>\n",
              "      <td>0</td>\n",
              "      <td>0</td>\n",
              "      <td>0</td>\n",
              "      <td>0</td>\n",
              "      <td>1</td>\n",
              "      <td>1</td>\n",
              "      <td>0</td>\n",
              "      <td>1</td>\n",
              "      <td>0</td>\n",
              "    </tr>\n",
              "    <tr>\n",
              "      <th>12</th>\n",
              "      <td>1</td>\n",
              "      <td>0</td>\n",
              "      <td>0</td>\n",
              "      <td>1</td>\n",
              "      <td>0</td>\n",
              "      <td>0</td>\n",
              "      <td>0</td>\n",
              "      <td>1</td>\n",
              "      <td>0</td>\n",
              "      <td>1</td>\n",
              "    </tr>\n",
              "    <tr>\n",
              "      <th>13</th>\n",
              "      <td>0</td>\n",
              "      <td>1</td>\n",
              "      <td>0</td>\n",
              "      <td>0</td>\n",
              "      <td>0</td>\n",
              "      <td>1</td>\n",
              "      <td>1</td>\n",
              "      <td>0</td>\n",
              "      <td>1</td>\n",
              "      <td>0</td>\n",
              "    </tr>\n",
              "  </tbody>\n",
              "</table>\n",
              "</div>"
            ],
            "text/plain": [
              "    age_middle_aged  age_senior  ...  credit_rating_excellent  credit_rating_fair\n",
              "0                 0           0  ...                        0                   1\n",
              "1                 0           0  ...                        1                   0\n",
              "2                 1           0  ...                        0                   1\n",
              "3                 0           1  ...                        0                   1\n",
              "4                 0           1  ...                        0                   1\n",
              "5                 0           1  ...                        1                   0\n",
              "6                 1           0  ...                        1                   0\n",
              "7                 0           0  ...                        0                   1\n",
              "8                 0           0  ...                        0                   1\n",
              "9                 0           1  ...                        0                   1\n",
              "10                0           0  ...                        1                   0\n",
              "11                1           0  ...                        1                   0\n",
              "12                1           0  ...                        0                   1\n",
              "13                0           1  ...                        1                   0\n",
              "\n",
              "[14 rows x 10 columns]"
            ]
          },
          "metadata": {
            "tags": []
          },
          "execution_count": 8
        }
      ]
    },
    {
      "cell_type": "code",
      "metadata": {
        "id": "GZNzXVyXRewW"
      },
      "source": [
        "x_train, x_test, y_train, y_test = train_test_split(x1,y,test_size=0.2)"
      ],
      "execution_count": 9,
      "outputs": []
    },
    {
      "cell_type": "code",
      "metadata": {
        "colab": {
          "base_uri": "https://localhost:8080/"
        },
        "id": "fTvSHPM0Rgyf",
        "outputId": "fcf44283-f8e4-4b7e-f35d-22bfabc66183"
      },
      "source": [
        "clf = DecisionTreeClassifier()\n",
        "clf.fit(x_train,y_train)"
      ],
      "execution_count": 10,
      "outputs": [
        {
          "output_type": "execute_result",
          "data": {
            "text/plain": [
              "DecisionTreeClassifier(ccp_alpha=0.0, class_weight=None, criterion='gini',\n",
              "                       max_depth=None, max_features=None, max_leaf_nodes=None,\n",
              "                       min_impurity_decrease=0.0, min_impurity_split=None,\n",
              "                       min_samples_leaf=1, min_samples_split=2,\n",
              "                       min_weight_fraction_leaf=0.0, presort='deprecated',\n",
              "                       random_state=None, splitter='best')"
            ]
          },
          "metadata": {
            "tags": []
          },
          "execution_count": 10
        }
      ]
    },
    {
      "cell_type": "code",
      "metadata": {
        "colab": {
          "base_uri": "https://localhost:8080/"
        },
        "id": "CUg1KY6oRiUk",
        "outputId": "59c23c69-5552-45b7-cfde-ffa714f5b39c"
      },
      "source": [
        "y_pred=clf.predict(x_test)\n",
        "print(\"\\nAccuracy score: %f\" %(accuracy_score(y_test,y_pred) * 100))"
      ],
      "execution_count": 11,
      "outputs": [
        {
          "output_type": "stream",
          "text": [
            "\n",
            "Accuracy score: 66.666667\n"
          ],
          "name": "stdout"
        }
      ]
    },
    {
      "cell_type": "code",
      "metadata": {
        "colab": {
          "base_uri": "https://localhost:8080/"
        },
        "id": "O7ksV7j_Rkmn",
        "outputId": "84559127-fb0e-41ad-f09c-a4105a7c449a"
      },
      "source": [
        "print(y_test.values)\n",
        "print(y_pred)"
      ],
      "execution_count": 12,
      "outputs": [
        {
          "output_type": "stream",
          "text": [
            "[0 1 1]\n",
            "[0 1 0]\n"
          ],
          "name": "stdout"
        }
      ]
    },
    {
      "cell_type": "code",
      "metadata": {
        "colab": {
          "base_uri": "https://localhost:8080/",
          "height": 469
        },
        "id": "MvB4ZCJdRl19",
        "outputId": "ff792b30-661e-4620-b11b-b853c8f552cd"
      },
      "source": [
        "\n",
        "from sklearn import tree\n",
        "tree.plot_tree(clf.fit(x1, y)) "
      ],
      "execution_count": 13,
      "outputs": [
        {
          "output_type": "execute_result",
          "data": {
            "text/plain": [
              "[Text(223.20000000000002, 195.696, 'X[0] <= 0.5\\ngini = 0.459\\nsamples = 14\\nvalue = [5, 9]'),\n",
              " Text(186.0, 152.208, 'X[7] <= 0.5\\ngini = 0.5\\nsamples = 10\\nvalue = [5, 5]'),\n",
              " Text(111.60000000000001, 108.72, 'X[2] <= 0.5\\ngini = 0.32\\nsamples = 5\\nvalue = [4, 1]'),\n",
              " Text(74.4, 65.232, 'X[9] <= 0.5\\ngini = 0.5\\nsamples = 2\\nvalue = [1, 1]'),\n",
              " Text(37.2, 21.744, 'gini = 0.0\\nsamples = 1\\nvalue = [1, 0]'),\n",
              " Text(111.60000000000001, 21.744, 'gini = 0.0\\nsamples = 1\\nvalue = [0, 1]'),\n",
              " Text(148.8, 65.232, 'gini = 0.0\\nsamples = 3\\nvalue = [3, 0]'),\n",
              " Text(260.40000000000003, 108.72, 'X[9] <= 0.5\\ngini = 0.32\\nsamples = 5\\nvalue = [1, 4]'),\n",
              " Text(223.20000000000002, 65.232, 'X[1] <= 0.5\\ngini = 0.5\\nsamples = 2\\nvalue = [1, 1]'),\n",
              " Text(186.0, 21.744, 'gini = 0.0\\nsamples = 1\\nvalue = [0, 1]'),\n",
              " Text(260.40000000000003, 21.744, 'gini = 0.0\\nsamples = 1\\nvalue = [1, 0]'),\n",
              " Text(297.6, 65.232, 'gini = 0.0\\nsamples = 3\\nvalue = [0, 3]'),\n",
              " Text(260.40000000000003, 152.208, 'gini = 0.0\\nsamples = 4\\nvalue = [0, 4]')]"
            ]
          },
          "metadata": {
            "tags": []
          },
          "execution_count": 13
        },
        {
          "output_type": "display_data",
          "data": {
            "image/png": "[encoded data removed]",
            "text/plain": [
              "<Figure size 432x288 with 1 Axes>"
            ]
          },
          "metadata": {
            "tags": [],
            "needs_background": "light"
          }
        }
      ]
    },
    {
      "cell_type": "code",
      "metadata": {
        "id": "nqfiwRIYRmeW"
      },
      "source": [
        ""
      ],
      "execution_count": 13,
      "outputs": []
    }
  ]
}
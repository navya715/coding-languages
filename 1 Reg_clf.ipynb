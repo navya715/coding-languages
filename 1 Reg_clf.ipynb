{
 "cells": [
  {
   "cell_type": "code",
   "execution_count": null,
   "metadata": {
    "id": "cR1Asn-QjJad"
   },
   "outputs": [],
   "source": [
    "# Regression refers to predictive modeling problems that involve predicting a numeric value given an input.\n",
    "\n",
    "# Classification refers to predictive modeling problems that involve predicting a class label or probability of class labels for a given input."
   ]
  },
  {
   "cell_type": "markdown",
   "metadata": {
    "id": "Jp8srWFPjfWT"
   },
   "source": []
  },
  {
   "cell_type": "code",
   "execution_count": null,
   "metadata": {
    "id": "kp8vQFb2j3D_"
   },
   "outputs": [],
   "source": [
    "# Determining the age of an abalone is a time-consuming task and it is desirable to determine the age from physical details alone."
   ]
  },
  {
   "cell_type": "code",
   "execution_count": null,
   "metadata": {
    "id": "AGYVm3fzj4WP"
   },
   "outputs": [],
   "source": [
    "# The “age” can be predicted as both a numerical value (in years) or a class label (ordinal year as a class)."
   ]
  },
  {
   "cell_type": "code",
   "execution_count": null,
   "metadata": {
    "id": "skVUrt3AliFg"
   },
   "outputs": [],
   "source": [
    "# Regression"
   ]
  },
  {
   "cell_type": "code",
   "execution_count": null,
   "metadata": {
    "id": "OSphvWofkJSd"
   },
   "outputs": [],
   "source": [
    "# regression mlp model for the abalone dataset\n",
    "from pandas import read_csv\n",
    "from tensorflow.keras.models import Sequential\n",
    "from tensorflow.keras.layers import Dense\n",
    "from sklearn.metrics import mean_absolute_error\n",
    "from sklearn.model_selection import train_test_split"
   ]
  },
  {
   "cell_type": "code",
   "execution_count": null,
   "metadata": {
    "colab": {
     "base_uri": "https://localhost:8080/"
    },
    "id": "t-NUNvunlIuY",
    "outputId": "a9521914-4c0e-4472-d582-fb6e17eb881c"
   },
   "outputs": [
    {
     "name": "stdout",
     "output_type": "stream",
     "text": [
      "(4177, 9)\n",
      "   0      1      2      3       4       5       6      7   8\n",
      "0  M  0.455  0.365  0.095  0.5140  0.2245  0.1010  0.150  15\n",
      "1  M  0.350  0.265  0.090  0.2255  0.0995  0.0485  0.070   7\n",
      "2  F  0.530  0.420  0.135  0.6770  0.2565  0.1415  0.210   9\n",
      "3  M  0.440  0.365  0.125  0.5160  0.2155  0.1140  0.155  10\n",
      "4  I  0.330  0.255  0.080  0.2050  0.0895  0.0395  0.055   7\n"
     ]
    }
   ],
   "source": [
    "# load dataset\n",
    "url = 'https://raw.githubusercontent.com/jbrownlee/Datasets/master/abalone.csv'\n",
    "dataframe = read_csv(url, header=None)\n",
    "\n",
    "print(dataframe.shape)\n",
    "# summarize first few lines\n",
    "print(dataframe.head())"
   ]
  },
  {
   "cell_type": "code",
   "execution_count": null,
   "metadata": {
    "id": "z6U2TzVylIxc"
   },
   "outputs": [],
   "source": [
    "# split into input (X) and output (y) variables\n",
    "X, y = dataset[:, 1:-1], dataset[:, -1]\n",
    "X, y = X.astype('float'), y.astype('float')\n",
    "n_features = X.shape[1]"
   ]
  },
  {
   "cell_type": "code",
   "execution_count": null,
   "metadata": {
    "id": "Gm-qbf4MlL5T"
   },
   "outputs": [],
   "source": [
    "# split data into train and test sets\n",
    "X_train, X_test, y_train, y_test = train_test_split(X, y, test_size=0.33, random_state=1)"
   ]
  },
  {
   "cell_type": "code",
   "execution_count": null,
   "metadata": {
    "id": "oC_wNywlnAEc"
   },
   "outputs": [],
   "source": [
    "# The model will have two hidden layers, the first with 20 nodes and the second with 10 nodes, \n",
    "\n",
    "# both using ReLU activation and “he normal” weight initialization (a good practice).\n",
    "\n",
    "#  The number of layers and nodes were chosen arbitrarily."
   ]
  },
  {
   "cell_type": "code",
   "execution_count": null,
   "metadata": {
    "id": "wNRVWALRk9Ta"
   },
   "outputs": [],
   "source": [
    "# define the keras model\n",
    "model = Sequential()\n",
    "model.add(Dense(20, input_dim=n_features, activation='relu', kernel_initializer='he_normal'))\n",
    "model.add(Dense(10, activation='relu', kernel_initializer='he_normal'))\n",
    "model.add(Dense(1, activation='linear'))"
   ]
  },
  {
   "cell_type": "code",
   "execution_count": null,
   "metadata": {
    "id": "8dc_B1FknWUC"
   },
   "outputs": [],
   "source": [
    "# The model will be trained to minimize the mean squared error (MSE) \n",
    "# loss function using the effective Adam version of stochastic gradient descent."
   ]
  },
  {
   "cell_type": "code",
   "execution_count": null,
   "metadata": {
    "colab": {
     "base_uri": "https://localhost:8080/"
    },
    "id": "iQ_ZepTwnPAS",
    "outputId": "7e3d945f-f36c-4e5e-9d83-fbc1771fe6ec"
   },
   "outputs": [
    {
     "name": "stdout",
     "output_type": "stream",
     "text": [
      "Epoch 1/150\n",
      "88/88 - 0s - loss: 105.9489\n",
      "Epoch 2/150\n",
      "88/88 - 0s - loss: 67.8976\n",
      "Epoch 3/150\n",
      "88/88 - 0s - loss: 18.2036\n",
      "Epoch 4/150\n",
      "88/88 - 0s - loss: 9.0569\n",
      "Epoch 5/150\n",
      "88/88 - 0s - loss: 8.5084\n",
      "Epoch 6/150\n",
      "88/88 - 0s - loss: 8.0430\n",
      "Epoch 7/150\n",
      "88/88 - 0s - loss: 7.6690\n",
      "Epoch 8/150\n",
      "88/88 - 0s - loss: 7.3346\n",
      "Epoch 9/150\n",
      "88/88 - 0s - loss: 7.0356\n",
      "Epoch 10/150\n",
      "88/88 - 0s - loss: 6.8836\n",
      "Epoch 11/150\n",
      "88/88 - 0s - loss: 6.7151\n",
      "Epoch 12/150\n",
      "88/88 - 0s - loss: 6.5970\n",
      "Epoch 13/150\n",
      "88/88 - 0s - loss: 6.4739\n",
      "Epoch 14/150\n",
      "88/88 - 0s - loss: 6.3534\n",
      "Epoch 15/150\n",
      "88/88 - 0s - loss: 6.2351\n",
      "Epoch 16/150\n",
      "88/88 - 0s - loss: 6.1509\n",
      "Epoch 17/150\n",
      "88/88 - 0s - loss: 6.0228\n",
      "Epoch 18/150\n",
      "88/88 - 0s - loss: 5.9050\n",
      "Epoch 19/150\n",
      "88/88 - 0s - loss: 5.8002\n",
      "Epoch 20/150\n",
      "88/88 - 0s - loss: 5.6884\n",
      "Epoch 21/150\n",
      "88/88 - 0s - loss: 5.5927\n",
      "Epoch 22/150\n",
      "88/88 - 0s - loss: 5.4932\n",
      "Epoch 23/150\n",
      "88/88 - 0s - loss: 5.3831\n",
      "Epoch 24/150\n",
      "88/88 - 0s - loss: 5.2752\n",
      "Epoch 25/150\n",
      "88/88 - 0s - loss: 5.2035\n",
      "Epoch 26/150\n",
      "88/88 - 0s - loss: 5.1202\n",
      "Epoch 27/150\n",
      "88/88 - 0s - loss: 5.0695\n",
      "Epoch 28/150\n",
      "88/88 - 0s - loss: 5.0501\n",
      "Epoch 29/150\n",
      "88/88 - 0s - loss: 5.0085\n",
      "Epoch 30/150\n",
      "88/88 - 0s - loss: 4.9673\n",
      "Epoch 31/150\n",
      "88/88 - 0s - loss: 4.9385\n",
      "Epoch 32/150\n",
      "88/88 - 0s - loss: 4.9198\n",
      "Epoch 33/150\n",
      "88/88 - 0s - loss: 4.9285\n",
      "Epoch 34/150\n",
      "88/88 - 0s - loss: 4.9029\n",
      "Epoch 35/150\n",
      "88/88 - 0s - loss: 4.8810\n",
      "Epoch 36/150\n",
      "88/88 - 0s - loss: 4.8710\n",
      "Epoch 37/150\n",
      "88/88 - 0s - loss: 4.8858\n",
      "Epoch 38/150\n",
      "88/88 - 0s - loss: 4.8633\n",
      "Epoch 39/150\n",
      "88/88 - 0s - loss: 4.8591\n",
      "Epoch 40/150\n",
      "88/88 - 0s - loss: 4.8342\n",
      "Epoch 41/150\n",
      "88/88 - 0s - loss: 4.8485\n",
      "Epoch 42/150\n",
      "88/88 - 0s - loss: 4.8212\n",
      "Epoch 43/150\n",
      "88/88 - 0s - loss: 4.8115\n",
      "Epoch 44/150\n",
      "88/88 - 0s - loss: 4.8038\n",
      "Epoch 45/150\n",
      "88/88 - 0s - loss: 4.8014\n",
      "Epoch 46/150\n",
      "88/88 - 0s - loss: 4.8045\n",
      "Epoch 47/150\n",
      "88/88 - 0s - loss: 4.7885\n",
      "Epoch 48/150\n",
      "88/88 - 0s - loss: 4.8020\n",
      "Epoch 49/150\n",
      "88/88 - 0s - loss: 4.7924\n",
      "Epoch 50/150\n",
      "88/88 - 0s - loss: 4.7818\n",
      "Epoch 51/150\n",
      "88/88 - 0s - loss: 4.7381\n",
      "Epoch 52/150\n",
      "88/88 - 0s - loss: 4.7392\n",
      "Epoch 53/150\n",
      "88/88 - 0s - loss: 4.7445\n",
      "Epoch 54/150\n",
      "88/88 - 0s - loss: 4.7315\n",
      "Epoch 55/150\n",
      "88/88 - 0s - loss: 4.7497\n",
      "Epoch 56/150\n",
      "88/88 - 0s - loss: 4.7169\n",
      "Epoch 57/150\n",
      "88/88 - 0s - loss: 4.7380\n",
      "Epoch 58/150\n",
      "88/88 - 0s - loss: 4.6976\n",
      "Epoch 59/150\n",
      "88/88 - 0s - loss: 4.7137\n",
      "Epoch 60/150\n",
      "88/88 - 0s - loss: 4.6938\n",
      "Epoch 61/150\n",
      "88/88 - 0s - loss: 4.6938\n",
      "Epoch 62/150\n",
      "88/88 - 0s - loss: 4.6868\n",
      "Epoch 63/150\n",
      "88/88 - 0s - loss: 4.6793\n",
      "Epoch 64/150\n",
      "88/88 - 0s - loss: 4.6719\n",
      "Epoch 65/150\n",
      "88/88 - 0s - loss: 4.6847\n",
      "Epoch 66/150\n",
      "88/88 - 0s - loss: 4.6901\n",
      "Epoch 67/150\n",
      "88/88 - 0s - loss: 4.6758\n",
      "Epoch 68/150\n",
      "88/88 - 0s - loss: 4.6816\n",
      "Epoch 69/150\n",
      "88/88 - 0s - loss: 4.6666\n",
      "Epoch 70/150\n",
      "88/88 - 0s - loss: 4.6515\n",
      "Epoch 71/150\n",
      "88/88 - 0s - loss: 4.6948\n",
      "Epoch 72/150\n",
      "88/88 - 0s - loss: 4.6874\n",
      "Epoch 73/150\n",
      "88/88 - 0s - loss: 4.6885\n",
      "Epoch 74/150\n",
      "88/88 - 0s - loss: 4.6225\n",
      "Epoch 75/150\n",
      "88/88 - 0s - loss: 4.6288\n",
      "Epoch 76/150\n",
      "88/88 - 0s - loss: 4.6415\n",
      "Epoch 77/150\n",
      "88/88 - 0s - loss: 4.6293\n",
      "Epoch 78/150\n",
      "88/88 - 0s - loss: 4.6253\n",
      "Epoch 79/150\n",
      "88/88 - 0s - loss: 4.6332\n",
      "Epoch 80/150\n",
      "88/88 - 0s - loss: 4.6128\n",
      "Epoch 81/150\n",
      "88/88 - 0s - loss: 4.6199\n",
      "Epoch 82/150\n",
      "88/88 - 0s - loss: 4.6662\n",
      "Epoch 83/150\n",
      "88/88 - 0s - loss: 4.6594\n",
      "Epoch 84/150\n",
      "88/88 - 0s - loss: 4.6231\n",
      "Epoch 85/150\n",
      "88/88 - 0s - loss: 4.6429\n",
      "Epoch 86/150\n",
      "88/88 - 0s - loss: 4.6017\n",
      "Epoch 87/150\n",
      "88/88 - 0s - loss: 4.5894\n",
      "Epoch 88/150\n",
      "88/88 - 0s - loss: 4.6384\n",
      "Epoch 89/150\n",
      "88/88 - 0s - loss: 4.5879\n",
      "Epoch 90/150\n",
      "88/88 - 0s - loss: 4.6018\n",
      "Epoch 91/150\n",
      "88/88 - 0s - loss: 4.5958\n",
      "Epoch 92/150\n",
      "88/88 - 0s - loss: 4.5978\n",
      "Epoch 93/150\n",
      "88/88 - 0s - loss: 4.5941\n",
      "Epoch 94/150\n",
      "88/88 - 0s - loss: 4.6043\n",
      "Epoch 95/150\n",
      "88/88 - 0s - loss: 4.5769\n",
      "Epoch 96/150\n",
      "88/88 - 0s - loss: 4.5728\n",
      "Epoch 97/150\n",
      "88/88 - 0s - loss: 4.5859\n",
      "Epoch 98/150\n",
      "88/88 - 0s - loss: 4.5827\n",
      "Epoch 99/150\n",
      "88/88 - 0s - loss: 4.5950\n",
      "Epoch 100/150\n",
      "88/88 - 0s - loss: 4.5675\n",
      "Epoch 101/150\n",
      "88/88 - 0s - loss: 4.5587\n",
      "Epoch 102/150\n",
      "88/88 - 0s - loss: 4.5724\n",
      "Epoch 103/150\n",
      "88/88 - 0s - loss: 4.5744\n",
      "Epoch 104/150\n",
      "88/88 - 0s - loss: 4.5439\n",
      "Epoch 105/150\n",
      "88/88 - 0s - loss: 4.5442\n",
      "Epoch 106/150\n",
      "88/88 - 0s - loss: 4.5623\n",
      "Epoch 107/150\n",
      "88/88 - 0s - loss: 4.5621\n",
      "Epoch 108/150\n",
      "88/88 - 0s - loss: 4.5440\n",
      "Epoch 109/150\n",
      "88/88 - 0s - loss: 4.5483\n",
      "Epoch 110/150\n",
      "88/88 - 0s - loss: 4.5483\n",
      "Epoch 111/150\n",
      "88/88 - 0s - loss: 4.5535\n",
      "Epoch 112/150\n",
      "88/88 - 0s - loss: 4.5684\n",
      "Epoch 113/150\n",
      "88/88 - 0s - loss: 4.5467\n",
      "Epoch 114/150\n",
      "88/88 - 0s - loss: 4.5693\n",
      "Epoch 115/150\n",
      "88/88 - 0s - loss: 4.5544\n",
      "Epoch 116/150\n",
      "88/88 - 0s - loss: 4.5173\n",
      "Epoch 117/150\n",
      "88/88 - 0s - loss: 4.5224\n",
      "Epoch 118/150\n",
      "88/88 - 0s - loss: 4.5530\n",
      "Epoch 119/150\n",
      "88/88 - 0s - loss: 4.5346\n",
      "Epoch 120/150\n",
      "88/88 - 0s - loss: 4.5665\n",
      "Epoch 121/150\n",
      "88/88 - 0s - loss: 4.5421\n",
      "Epoch 122/150\n",
      "88/88 - 0s - loss: 4.5218\n",
      "Epoch 123/150\n",
      "88/88 - 0s - loss: 4.5316\n",
      "Epoch 124/150\n",
      "88/88 - 0s - loss: 4.5375\n",
      "Epoch 125/150\n",
      "88/88 - 0s - loss: 4.5446\n",
      "Epoch 126/150\n",
      "88/88 - 0s - loss: 4.5285\n",
      "Epoch 127/150\n",
      "88/88 - 0s - loss: 4.5062\n",
      "Epoch 128/150\n",
      "88/88 - 0s - loss: 4.5509\n",
      "Epoch 129/150\n",
      "88/88 - 0s - loss: 4.5246\n",
      "Epoch 130/150\n",
      "88/88 - 0s - loss: 4.5428\n",
      "Epoch 131/150\n",
      "88/88 - 0s - loss: 4.5186\n",
      "Epoch 132/150\n",
      "88/88 - 0s - loss: 4.5204\n",
      "Epoch 133/150\n",
      "88/88 - 0s - loss: 4.5170\n",
      "Epoch 134/150\n",
      "88/88 - 0s - loss: 4.5028\n",
      "Epoch 135/150\n",
      "88/88 - 0s - loss: 4.4956\n",
      "Epoch 136/150\n",
      "88/88 - 0s - loss: 4.4977\n",
      "Epoch 137/150\n",
      "88/88 - 0s - loss: 4.4984\n",
      "Epoch 138/150\n",
      "88/88 - 0s - loss: 4.4984\n",
      "Epoch 139/150\n",
      "88/88 - 0s - loss: 4.4928\n",
      "Epoch 140/150\n",
      "88/88 - 0s - loss: 4.5060\n",
      "Epoch 141/150\n",
      "88/88 - 0s - loss: 4.5088\n",
      "Epoch 142/150\n",
      "88/88 - 0s - loss: 4.5279\n",
      "Epoch 143/150\n",
      "88/88 - 0s - loss: 4.4887\n",
      "Epoch 144/150\n",
      "88/88 - 0s - loss: 4.5112\n",
      "Epoch 145/150\n",
      "88/88 - 0s - loss: 4.4908\n",
      "Epoch 146/150\n",
      "88/88 - 0s - loss: 4.4961\n",
      "Epoch 147/150\n",
      "88/88 - 0s - loss: 4.5207\n",
      "Epoch 148/150\n",
      "88/88 - 0s - loss: 4.5131\n",
      "Epoch 149/150\n",
      "88/88 - 0s - loss: 4.4969\n",
      "Epoch 150/150\n",
      "88/88 - 0s - loss: 4.4846\n"
     ]
    },
    {
     "data": {
      "text/plain": [
       "<tensorflow.python.keras.callbacks.History at 0x7f4eb9d565d0>"
      ]
     },
     "execution_count": 26,
     "metadata": {
      "tags": []
     },
     "output_type": "execute_result"
    }
   ],
   "source": [
    "# compile the keras model\n",
    "model.compile(loss='mse', optimizer='adam')\n",
    "# fit the keras model on the dataset\n",
    "model.fit(X_train, y_train, epochs=150, batch_size=32, verbose=2)"
   ]
  },
  {
   "cell_type": "code",
   "execution_count": null,
   "metadata": {
    "id": "d7B01IK0nhOc"
   },
   "outputs": [],
   "source": [
    "# We will train the model for 150 epochs with a mini-batch size of 32 samples, again chosen arbitrarily."
   ]
  },
  {
   "cell_type": "code",
   "execution_count": null,
   "metadata": {
    "colab": {
     "base_uri": "https://localhost:8080/"
    },
    "id": "suUhfzpbk9WW",
    "outputId": "38d3b7bf-86f0-4b05-f62c-a24f2c58f463"
   },
   "outputs": [
    {
     "name": "stdout",
     "output_type": "stream",
     "text": [
      "MAE: 1.512\n"
     ]
    }
   ],
   "source": [
    "# evaluate on test set\n",
    "yhat = model.predict(X_test)\n",
    "error = mean_absolute_error(y_test, yhat)\n",
    "print('MAE: %.3f' % error)"
   ]
  },
  {
   "cell_type": "code",
   "execution_count": null,
   "metadata": {
    "id": "Lw79r7XAnqYj"
   },
   "outputs": [],
   "source": [
    "# Finally, after the model is trained, we will evaluate it on the holdout test dataset and report the mean absolute error (MAE)."
   ]
  },
  {
   "cell_type": "code",
   "execution_count": null,
   "metadata": {
    "id": "QqBa_hY5kVrA"
   },
   "outputs": [],
   "source": [
    "# Classification"
   ]
  },
  {
   "cell_type": "code",
   "execution_count": null,
   "metadata": {
    "id": "9ATYkSWOoG2U"
   },
   "outputs": [],
   "source": [
    "# https://raw.githubusercontent.com/jbrownlee/Datasets/master/abalone.names"
   ]
  },
  {
   "cell_type": "code",
   "execution_count": null,
   "metadata": {
    "id": "U4pG6jw5oTE6"
   },
   "outputs": [],
   "source": [
    "from numpy import unique\n",
    "from numpy import argmax\n",
    "from pandas import read_csv\n",
    "from tensorflow.keras.models import Sequential\n",
    "from tensorflow.keras.layers import Dense\n",
    "from sklearn.metrics import accuracy_score\n",
    "from sklearn.model_selection import train_test_split\n",
    "from sklearn.preprocessing import LabelEncoder"
   ]
  },
  {
   "cell_type": "code",
   "execution_count": null,
   "metadata": {
    "id": "ywGI3dAAoTJE"
   },
   "outputs": [],
   "source": [
    "# load dataset\n",
    "url = 'https://raw.githubusercontent.com/jbrownlee/Datasets/master/abalone.csv'\n",
    "dataframe = read_csv(url, header=None)\n",
    "dataset = dataframe.values"
   ]
  },
  {
   "cell_type": "code",
   "execution_count": null,
   "metadata": {
    "id": "Siz2x057oTOA"
   },
   "outputs": [],
   "source": [
    "# split into input (X) and output (y) variables\n",
    "X, y = dataset[:, 1:-1], dataset[:, -1]\n",
    "X, y = X.astype('float'), y.astype('float')\n",
    "n_features = X.shape[1]"
   ]
  },
  {
   "cell_type": "code",
   "execution_count": null,
   "metadata": {
    "id": "E8dj1fVCoTRm"
   },
   "outputs": [],
   "source": [
    "# encode strings to integer\n",
    "y = LabelEncoder().fit_transform(y)\n",
    "n_class = len(unique(y))\n",
    "# split data into train and test sets\n",
    "X_train, X_test, y_train, y_test = train_test_split(X, y, test_size=0.33, random_state=1)"
   ]
  },
  {
   "cell_type": "code",
   "execution_count": null,
   "metadata": {
    "id": "sDJmmuGgkqrW"
   },
   "outputs": [],
   "source": [
    "# define the keras model\n",
    "model = Sequential()\n",
    "model.add(Dense(20, input_dim=n_features, activation='relu', kernel_initializer='he_normal'))\n",
    "model.add(Dense(10, activation='relu', kernel_initializer='he_normal'))\n",
    "model.add(Dense(n_class, activation='softmax'))"
   ]
  },
  {
   "cell_type": "code",
   "execution_count": null,
   "metadata": {
    "id": "0xfKmMjLogcy"
   },
   "outputs": [],
   "source": [
    "# compile the keras model\n",
    "model.compile(loss='sparse_categorical_crossentropy', optimizer='adam')"
   ]
  },
  {
   "cell_type": "code",
   "execution_count": null,
   "metadata": {
    "id": "ZxqTCvHzoghC"
   },
   "outputs": [],
   "source": [
    "# fit the keras model on the dataset\n",
    "model.fit(X_train, y_train, epochs=150, batch_size=32, verbose=2)"
   ]
  },
  {
   "cell_type": "code",
   "execution_count": null,
   "metadata": {
    "id": "vJIIdEu0krPW"
   },
   "outputs": [],
   "source": [
    "# evaluate on test set\n",
    "yhat = model.predict(X_test)\n",
    "yhat = argmax(yhat, axis=-1).astype('int')"
   ]
  },
  {
   "cell_type": "code",
   "execution_count": null,
   "metadata": {
    "colab": {
     "base_uri": "https://localhost:8080/"
    },
    "id": "7j8FPig_oqtK",
    "outputId": "6b46b1f4-0720-403a-90e1-57f52bd4fc5c"
   },
   "outputs": [
    {
     "name": "stdout",
     "output_type": "stream",
     "text": [
      "Accuracy: 0.126\n"
     ]
    }
   ],
   "source": [
    "acc = accuracy_score(y_test, yhat)\n",
    "print('Accuracy: %.3f' % acc)"
   ]
  }
 ],
 "metadata": {
  "colab": {
   "collapsed_sections": [],
   "name": "Reg_clf.ipynb",
   "provenance": []
  },
  "kernelspec": {
   "display_name": "Python 3",
   "language": "python",
   "name": "python3"
  },
  "language_info": {
   "codemirror_mode": {
    "name": "ipython",
    "version": 3
   },
   "file_extension": ".py",
   "mimetype": "text/x-python",
   "name": "python",
   "nbconvert_exporter": "python",
   "pygments_lexer": "ipython3",
   "version": "3.7.6"
  }
 },
 "nbformat": 4,
 "nbformat_minor": 1
}

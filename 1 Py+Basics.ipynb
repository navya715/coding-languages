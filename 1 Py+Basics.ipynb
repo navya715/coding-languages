{
 "cells": [
  {
   "cell_type": "markdown",
   "metadata": {},
   "source": [
    "### Introd. Python"
   ]
  },
  {
   "cell_type": "markdown",
   "metadata": {},
   "source": [
    "Python Features\n",
    "\n",
    "        interpreted\n",
    "\n",
    "        interactive\n",
    "        \n",
    "        Object-Oriented\n",
    "        \n",
    "        Beginers Language \n",
    "        \n",
    "        broad standard library\n",
    "        \n",
    "        Databases\n",
    "        \n",
    "        GUI Programming \n",
    "        \n",
    "        \n",
    "Additional Features \n",
    "\n",
    "        supports functional and structured programming methods as well as OOP\n",
    "    \n",
    "        can be used as a scripting language or can be compiled to byte-code for building large applications\n",
    "          \n",
    "        supports automatic garbage collection\n",
    "        \n",
    "        can be easily integrated with C, C++, COM, ActiveX, CORBA, and Java "
   ]
  },
  {
   "cell_type": "code",
   "execution_count": null,
   "metadata": {},
   "outputs": [],
   "source": [
    "print (\"Hello, Python!\")"
   ]
  },
  {
   "cell_type": "code",
   "execution_count": null,
   "metadata": {},
   "outputs": [],
   "source": [
    "2 + 2"
   ]
  },
  {
   "cell_type": "code",
   "execution_count": 3,
   "metadata": {},
   "outputs": [
    {
     "data": {
      "text/plain": [
       "20"
      ]
     },
     "execution_count": 3,
     "metadata": {},
     "output_type": "execute_result"
    }
   ],
   "source": [
    "50 - 5 *  6 "
   ]
  },
  {
   "cell_type": "code",
   "execution_count": 4,
   "metadata": {
    "scrolled": true
   },
   "outputs": [
    {
     "data": {
      "text/plain": [
       "5.0"
      ]
     },
     "execution_count": 4,
     "metadata": {},
     "output_type": "execute_result"
    }
   ],
   "source": [
    "(50 - 5.0 * 6) / 4"
   ]
  },
  {
   "cell_type": "code",
   "execution_count": null,
   "metadata": {},
   "outputs": [],
   "source": [
    "8 / 5.0"
   ]
  },
  {
   "cell_type": "markdown",
   "metadata": {},
   "source": [
    "## Operators"
   ]
  },
  {
   "cell_type": "markdown",
   "metadata": {
    "collapsed": true
   },
   "source": [
    "//\tPerform Floor division(gives integer value after division)\n",
    "\n",
    "+\tTo perform addition\n",
    "\n",
    "-\tTo perform subtraction\n",
    "\n",
    "*\tTo perform multiplication\n",
    "\n",
    "/\tTo perform division\n",
    "\n",
    "%\tTo return remainder after division(Modulus)\n",
    "\n",
    "**\tPerform exponent(raise to power)"
   ]
  },
  {
   "cell_type": "markdown",
   "metadata": {
    "collapsed": true
   },
   "source": [
    "The return type of a division (/) operation depends on its operands\n",
    "\n",
    "    If both operands are of type int, floor division is performed and an int is returned. \n",
    "\n",
    "    If either operand is a float, classic division is performed and a float is returned. \n",
    "\n",
    "    remainder can be calculated with the % operator:"
   ]
  },
  {
   "cell_type": "code",
   "execution_count": null,
   "metadata": {},
   "outputs": [],
   "source": [
    "17 / 3  # int / int -> int"
   ]
  },
  {
   "cell_type": "code",
   "execution_count": null,
   "metadata": {},
   "outputs": [],
   "source": [
    "17 / 3.0  # int / float -> float"
   ]
  },
  {
   "cell_type": "code",
   "execution_count": null,
   "metadata": {},
   "outputs": [],
   "source": [
    "17 % 3  # the % operator returns the remainder of the division"
   ]
  },
  {
   "cell_type": "code",
   "execution_count": null,
   "metadata": {},
   "outputs": [],
   "source": [
    "5 * 3 + 2  # result * divisor + remainder"
   ]
  },
  {
   "cell_type": "code",
   "execution_count": null,
   "metadata": {},
   "outputs": [],
   "source": [
    "#         ** operator to calculate powers"
   ]
  },
  {
   "cell_type": "code",
   "execution_count": null,
   "metadata": {},
   "outputs": [],
   "source": [
    "5 * 2  # 5 squared"
   ]
  },
  {
   "cell_type": "code",
   "execution_count": null,
   "metadata": {},
   "outputs": [],
   "source": [
    "2 ** 7  # 2 to the power of 7\n"
   ]
  },
  {
   "cell_type": "code",
   "execution_count": 2,
   "metadata": {},
   "outputs": [
    {
     "data": {
      "text/plain": [
       "3"
      ]
     },
     "execution_count": 2,
     "metadata": {},
     "output_type": "execute_result"
    }
   ],
   "source": [
    "10 // 3  "
   ]
  },
  {
   "cell_type": "code",
   "execution_count": 1,
   "metadata": {},
   "outputs": [
    {
     "data": {
      "text/plain": [
       "3.3333333333333335"
      ]
     },
     "execution_count": 1,
     "metadata": {},
     "output_type": "execute_result"
    }
   ],
   "source": [
    "10/3  "
   ]
  },
  {
   "cell_type": "markdown",
   "metadata": {},
   "source": [
    "## VARIABLES"
   ]
  },
  {
   "cell_type": "markdown",
   "metadata": {
    "collapsed": true
   },
   "source": [
    "Variables are nothing but reserved memory locations to store values. \n",
    "                  when you create a variable you reserve some space in memory\n",
    "\n",
    "Python variables do not need explicit declaration to reserve memory space. \n",
    "\n",
    "The declaration happens automatically when you assign a value to a variable. \n",
    "\n",
    "The equal sign (=) is used to assign values to variables."
   ]
  },
  {
   "cell_type": "code",
   "execution_count": null,
   "metadata": {},
   "outputs": [],
   "source": [
    "var1 = 100          # An integer assignment\n",
    "var1\n",
    "type(var1)"
   ]
  },
  {
   "cell_type": "code",
   "execution_count": null,
   "metadata": {},
   "outputs": [],
   "source": [
    "var2  = 1000.0       # A floating point\n",
    "var2\n",
    "type(var2)"
   ]
  },
  {
   "cell_type": "code",
   "execution_count": null,
   "metadata": {},
   "outputs": [],
   "source": [
    "var3    = \"Python\"       # A string\n",
    "var3\n",
    "type(var3)"
   ]
  },
  {
   "cell_type": "code",
   "execution_count": null,
   "metadata": {},
   "outputs": [],
   "source": [
    "#  Python allows you to assign a single value to several variables simultaneously. \n",
    "x = y = z = 10\n",
    "print (x)\n",
    "print (y)\n",
    "print (z)\n",
    "# an integer object is created with the value 10, \n",
    "# and all three variables are assigned to the same memory location. "
   ]
  },
  {
   "cell_type": "code",
   "execution_count": null,
   "metadata": {},
   "outputs": [],
   "source": [
    "x,y,z = 10,25.5,\"Python\"\n",
    "print (x)\n",
    "print (y)\n",
    "print (z)"
   ]
  },
  {
   "cell_type": "code",
   "execution_count": null,
   "metadata": {},
   "outputs": [],
   "source": [
    "If a variable is not “defined” (assigned a value), trying to use it will give you an error:\n",
    ">>> n  # try to access an undefined variable"
   ]
  },
  {
   "cell_type": "code",
   "execution_count": null,
   "metadata": {},
   "outputs": [],
   "source": [
    "mm"
   ]
  },
  {
   "cell_type": "markdown",
   "metadata": {},
   "source": [
    "## Identifiers"
   ]
  },
  {
   "cell_type": "markdown",
   "metadata": {},
   "source": [
    "Identifiers are the names given to the fundamental building blocks in a program. \n",
    "\n",
    "These can be variables, class, object, functions, lists, dictionaries etc.\n",
    "    \n",
    "There are certain rules defined for naming i.e., Identifiers.\n",
    "\n",
    "I. An identifier is a long sequence of characters and numbers.\n",
    "\n",
    "II.No special character except underscore (_ ) can be used as an identifier.\n",
    "\n",
    "III.Keyword should not be used as an identifier name.\n",
    "\n",
    "IV.Python is case sensitive. So using case is significant. \n",
    "\n",
    "V.First character of an identifier can be character, underscore ( _ ) but not digit."
   ]
  },
  {
   "cell_type": "code",
   "execution_count": null,
   "metadata": {},
   "outputs": [],
   "source": [
    "Quotation in Python\n",
    "Python accepts single ('), double (\") and triple (''' or \"\"\") quotes to denote string literals,\n",
    "as long as the same type of quote starts and ends the string."
   ]
  },
  {
   "cell_type": "markdown",
   "metadata": {},
   "source": [
    "Comments in Python\n",
    "A hash sign (#) that is not inside a string literal begins a comment. \n",
    "# First comment\n",
    "print \"Hello, Python!\" # Second comment\n",
    "    \n",
    "    \n",
    "\"\"\"\n",
    "sd\n",
    "sdf\n",
    "\"\"\""
   ]
  }
 ],
 "metadata": {
  "kernelspec": {
   "display_name": "Python 3",
   "language": "python",
   "name": "python3"
  },
  "language_info": {
   "codemirror_mode": {
    "name": "ipython",
    "version": 3
   },
   "file_extension": ".py",
   "mimetype": "text/x-python",
   "name": "python",
   "nbconvert_exporter": "python",
   "pygments_lexer": "ipython3",
   "version": "3.7.6"
  }
 },
 "nbformat": 4,
 "nbformat_minor": 2
}

{
 "cells": [
  {
   "cell_type": "code",
   "execution_count": 1,
   "metadata": {},
   "outputs": [
    {
     "name": "stdout",
     "output_type": "stream",
     "text": [
      "Hello\n",
      "Hello\n"
     ]
    }
   ],
   "source": [
    "def msg():  \n",
    "    print (\"Hello\")\n",
    "\n",
    "msg()  \n",
    "\n",
    "msg()"
   ]
  },
  {
   "cell_type": "code",
   "execution_count": 2,
   "metadata": {},
   "outputs": [
    {
     "name": "stdout",
     "output_type": "stream",
     "text": [
      "---------sum function-----\n",
      "Sum of two numbers is 30\n"
     ]
    }
   ],
   "source": [
    "print('---------sum function-----')\n",
    "\n",
    "def sum(x,y):  \n",
    "          s=x+y  \n",
    "          print (\"Sum of two numbers is\" ,s)\n",
    "            \n",
    "            \n",
    "sum(10,20) \n"
   ]
  },
  {
   "cell_type": "code",
   "execution_count": 3,
   "metadata": {},
   "outputs": [
    {
     "name": "stdout",
     "output_type": "stream",
     "text": [
      "Sum of two numbers is 50\n"
     ]
    }
   ],
   "source": [
    "sum(20,30)  "
   ]
  },
  {
   "cell_type": "code",
   "execution_count": 5,
   "metadata": {},
   "outputs": [
    {
     "name": "stdout",
     "output_type": "stream",
     "text": [
      "---------sum function with return stmt-----\n",
      "Printing within Function\n",
      "30\n",
      "Printing Outside 30\n"
     ]
    }
   ],
   "source": [
    "#Functions will return one or more values ,  use return \n",
    "\n",
    "print('---------sum function with return stmt-----')\n",
    "\n",
    "def sum1(a,b):  \n",
    "            print (\"Printing within Function\")\n",
    "            print (a+b)  \n",
    "            return a+b  \n",
    "      \n",
    "total=sum1(10,20)  \n",
    "\n",
    "print (\"Printing Outside\",total)\n"
   ]
  },
  {
   "cell_type": "code",
   "execution_count": 6,
   "metadata": {},
   "outputs": [
    {
     "name": "stdout",
     "output_type": "stream",
     "text": [
      "--------fun args---------\n",
      "25\n"
     ]
    }
   ],
   "source": [
    "print('--------fun args---------')\n",
    "def addition(x,y):  \n",
    "     print (x+y)\n",
    "\n",
    "x=15\n",
    "addition(x ,10)"
   ]
  },
  {
   "cell_type": "code",
   "execution_count": 7,
   "metadata": {},
   "outputs": [
    {
     "name": "stdout",
     "output_type": "stream",
     "text": [
      "30\n"
     ]
    }
   ],
   "source": [
    "addition(x,x)"
   ]
  },
  {
   "cell_type": "code",
   "execution_count": null,
   "metadata": {},
   "outputs": [],
   "source": [
    "y=20  \n",
    "\n",
    "addition(x,y)"
   ]
  },
  {
   "cell_type": "code",
   "execution_count": 8,
   "metadata": {},
   "outputs": [
    {
     "name": "stdout",
     "output_type": "stream",
     "text": [
      "--------positional args---------\n",
      "30\n"
     ]
    }
   ],
   "source": [
    "print('--------positional args---------')\n",
    "def sum(a,b):  \n",
    "        c=a+b  \n",
    "        print (c)  \n",
    "sum(10,20)  "
   ]
  },
  {
   "cell_type": "code",
   "execution_count": 10,
   "metadata": {},
   "outputs": [
    {
     "name": "stdout",
     "output_type": "stream",
     "text": [
      "50.0\n"
     ]
    }
   ],
   "source": [
    "# sum(20)"
   ]
  },
  {
   "cell_type": "code",
   "execution_count": 24,
   "metadata": {},
   "outputs": [
    {
     "name": "stdout",
     "output_type": "stream",
     "text": [
      "--------default args---------\n",
      "100\n",
      "Ravi\n",
      "20\n"
     ]
    }
   ],
   "source": [
    "print('--------default args---------')\n",
    "def msg(Id,Name=\"name    \",Age=21):  \n",
    "         print (Id)\n",
    "         print (Name)  \n",
    "         print (Age)\n",
    "         return  \n",
    "        \n",
    "msg(Id=100,Name='Ravi',Age=20)  "
   ]
  },
  {
   "cell_type": "code",
   "execution_count": 25,
   "metadata": {},
   "outputs": [
    {
     "name": "stdout",
     "output_type": "stream",
     "text": [
      "102\n",
      "name    \n",
      "21\n"
     ]
    }
   ],
   "source": [
    "msg(Id=102)"
   ]
  },
  {
   "cell_type": "code",
   "execution_count": 16,
   "metadata": {},
   "outputs": [
    {
     "name": "stdout",
     "output_type": "stream",
     "text": [
      "1\n",
      "Rama\n",
      "21\n"
     ]
    }
   ],
   "source": [
    "msg()"
   ]
  },
  {
   "cell_type": "code",
   "execution_count": 26,
   "metadata": {},
   "outputs": [
    {
     "name": "stdout",
     "output_type": "stream",
     "text": [
      "--------keyword args---------\n",
      "100\n",
      "Raj\n"
     ]
    }
   ],
   "source": [
    "print('--------keyword args---------')\n",
    "def msg(id,name):  \n",
    "            print (id)\n",
    "            print (name)  \n",
    "            return  \n",
    "msg(id=100,name='Raj')  "
   ]
  },
  {
   "cell_type": "code",
   "execution_count": 27,
   "metadata": {},
   "outputs": [
    {
     "name": "stdout",
     "output_type": "stream",
     "text": [
      "101\n",
      "Rahul\n"
     ]
    }
   ],
   "source": [
    "msg(name='Rahul',id=101)  "
   ]
  },
  {
   "cell_type": "code",
   "execution_count": null,
   "metadata": {},
   "outputs": [],
   "source": [
    "var in 2 loc \n",
    "1. locally\n",
    "\n",
    "  with in a fun def\n",
    "  can be accessd with in a fun\n",
    "  outside fun we cannot access\n",
    "\n",
    "2. globally\n",
    "\n"
   ]
  },
  {
   "cell_type": "code",
   "execution_count": 28,
   "metadata": {},
   "outputs": [
    {
     "name": "stdout",
     "output_type": "stream",
     "text": [
      "-----local var---------\n",
      "Value of a is 10\n"
     ]
    }
   ],
   "source": [
    "print('-----local var---------')\n",
    "\n",
    "def msg():  \n",
    "        a=10  \n",
    "        print (\"Value of a is\",a) \n",
    "        return  \n",
    "msg()  "
   ]
  },
  {
   "cell_type": "code",
   "execution_count": 29,
   "metadata": {},
   "outputs": [
    {
     "ename": "NameError",
     "evalue": "name 'a' is not defined",
     "output_type": "error",
     "traceback": [
      "\u001b[1;31m---------------------------------------------------------------------------\u001b[0m",
      "\u001b[1;31mNameError\u001b[0m                                 Traceback (most recent call last)",
      "\u001b[1;32m<ipython-input-29-a0a1ac57fced>\u001b[0m in \u001b[0;36m<module>\u001b[1;34m\u001b[0m\n\u001b[1;32m----> 1\u001b[1;33m \u001b[0mprint\u001b[0m \u001b[1;33m(\u001b[0m\u001b[0ma\u001b[0m\u001b[1;33m)\u001b[0m\u001b[1;33m\u001b[0m\u001b[1;33m\u001b[0m\u001b[0m\n\u001b[0m",
      "\u001b[1;31mNameError\u001b[0m: name 'a' is not defined"
     ]
    }
   ],
   "source": [
    "# print (a) "
   ]
  },
  {
   "cell_type": "code",
   "execution_count": null,
   "metadata": {},
   "outputs": [],
   "source": []
  },
  {
   "cell_type": "code",
   "execution_count": 31,
   "metadata": {},
   "outputs": [
    {
     "name": "stdout",
     "output_type": "stream",
     "text": [
      "-----global var---------\n",
      "Value of a is 10\n",
      "Value of b is 20\n",
      "20\n"
     ]
    }
   ],
   "source": [
    "\n",
    "print('-----global var---------')\n",
    "b=20  \n",
    "def msg():  \n",
    "       a=10  \n",
    "       print (\"Value of a is\",a)\n",
    "       print (\"Value of b is\",b)\n",
    "       return      \n",
    "msg()  \n",
    "#print (a)\n",
    "print (b)\n"
   ]
  },
  {
   "cell_type": "code",
   "execution_count": 32,
   "metadata": {},
   "outputs": [
    {
     "name": "stdout",
     "output_type": "stream",
     "text": [
      "---call by ref---\n",
      "list before pass [12, 67, 90]\n",
      "list inside the function:  [12, 67, 90, 23, 89]\n",
      "list outside the function [12, 67, 90, 23, 89]\n"
     ]
    }
   ],
   "source": [
    "\n",
    "print('---call by ref---')\n",
    "def ref(list1): \n",
    "   list1.extend([23,89]) \n",
    "   print (\"list inside the function: \",list1)\n",
    "list1 = [12,67,90] \n",
    "\n",
    "print (\"list before pass\", list1)\n",
    "\n",
    "ref(list1) \n",
    "\n",
    "print (\"list outside the function\", list1)\n"
   ]
  },
  {
   "cell_type": "code",
   "execution_count": 33,
   "metadata": {},
   "outputs": [
    {
     "name": "stdout",
     "output_type": "stream",
     "text": [
      "---call by val---\n",
      "Inside the function 14\n",
      "Outside the function 10\n"
     ]
    }
   ],
   "source": [
    "\n",
    "print('---call by val---')\n",
    "def fun(a):\n",
    "   a=a+4\n",
    "   print (\"Inside the function\", a)\n",
    "a= 10\n",
    "fun(a)\n",
    "print (\"Outside the function\", a)\n"
   ]
  },
  {
   "cell_type": "code",
   "execution_count": 1,
   "metadata": {},
   "outputs": [
    {
     "name": "stdout",
     "output_type": "stream",
     "text": [
      "Select operation.\n",
      "1.Add\n",
      "2.Subtract\n",
      "3.Multiply\n",
      "4.Divide\n",
      "Enter choice(1/2/3/4):1\n",
      "Enter first number: 10\n",
      "Enter second number: 20\n",
      "30\n"
     ]
    }
   ],
   "source": [
    "def add(x, y):\n",
    "   return x + y\n",
    "def subtract(x, y):\n",
    "   return x - y\n",
    "def multiply(x, y):\n",
    "   return x * y\n",
    "def divide(x, y):\n",
    "   return x / y\n",
    "   \n",
    "print(\"Select operation.\")\n",
    "print(\"1.Add\")\n",
    "print(\"2.Subtract\")\n",
    "print(\"3.Multiply\")\n",
    "print(\"4.Divide\")\n",
    "\n",
    "choice = input(\"Enter choice(1/2/3/4):\")\n",
    "\n",
    "num1 = int(input(\"Enter first number: \"))\n",
    "num2 = int(input(\"Enter second number: \"))\n",
    "\n",
    "if choice == '1':\n",
    "   print(add(num1,num2))\n",
    "\n",
    "elif choice == '2':\n",
    "   print(subtract(num1,num2))\n",
    "\n",
    "elif choice == '3':\n",
    "   print(multiply(num1,num2))\n",
    "\n",
    "elif choice == '4':\n",
    "   print(divide(num1,num2))\n",
    "else:\n",
    "   print(\"Invalid input\")"
   ]
  },
  {
   "cell_type": "code",
   "execution_count": null,
   "metadata": {},
   "outputs": [],
   "source": []
  },
  {
   "cell_type": "code",
   "execution_count": null,
   "metadata": {},
   "outputs": [],
   "source": []
  }
 ],
 "metadata": {
  "kernelspec": {
   "display_name": "Python 3",
   "language": "python",
   "name": "python3"
  },
  "language_info": {
   "codemirror_mode": {
    "name": "ipython",
    "version": 3
   },
   "file_extension": ".py",
   "mimetype": "text/x-python",
   "name": "python",
   "nbconvert_exporter": "python",
   "pygments_lexer": "ipython3",
   "version": "3.7.6"
  }
 },
 "nbformat": 4,
 "nbformat_minor": 2
}

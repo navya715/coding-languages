{
 "cells": [
  {
   "cell_type": "code",
   "execution_count": 1,
   "metadata": {},
   "outputs": [
    {
     "name": "stdout",
     "output_type": "stream",
     "text": [
      "[10 11 12 13 14 15 16 17 18 19]\n",
      "[ 2  1  4  5  8 12 18 25 96 48]\n"
     ]
    }
   ],
   "source": [
    "import numpy as np\n",
    "x = np.arange(10, 20)\n",
    "print(x)\n",
    "\n",
    "y = np.array([2, 1, 4, 5, 8, 12, 18, 25, 96, 48])\n",
    "print(y)\n"
   ]
  },
  {
   "cell_type": "markdown",
   "metadata": {},
   "source": [
    "NumPy Correlation Calculation"
   ]
  },
  {
   "cell_type": "code",
   "execution_count": 2,
   "metadata": {},
   "outputs": [],
   "source": [
    "r = np.corrcoef(x, y)"
   ]
  },
  {
   "cell_type": "code",
   "execution_count": 3,
   "metadata": {},
   "outputs": [
    {
     "data": {
      "text/plain": [
       "array([[1.        , 0.75864029],\n",
       "       [0.75864029, 1.        ]])"
      ]
     },
     "execution_count": 3,
     "metadata": {},
     "output_type": "execute_result"
    }
   ],
   "source": [
    "r"
   ]
  },
  {
   "cell_type": "code",
   "execution_count": 4,
   "metadata": {},
   "outputs": [
    {
     "data": {
      "text/plain": [
       "0.7586402890911867"
      ]
     },
     "execution_count": 4,
     "metadata": {},
     "output_type": "execute_result"
    }
   ],
   "source": [
    "r[0, 1]"
   ]
  },
  {
   "cell_type": "code",
   "execution_count": 5,
   "metadata": {},
   "outputs": [
    {
     "data": {
      "text/plain": [
       "0.7586402890911869"
      ]
     },
     "execution_count": 5,
     "metadata": {},
     "output_type": "execute_result"
    }
   ],
   "source": [
    "r[1, 0]"
   ]
  },
  {
   "cell_type": "markdown",
   "metadata": {},
   "source": [
    "The values on the main diagonal of the correlation matrix (upper left and lower right) are equal to 1.\n",
    "\n",
    "The upper left value corresponds to the correlation coefficient for x and x, while the lower right value is the correlation coefficient for y and y.\n",
    "\n",
    "They are always equal to 1.\n",
    "\n",
    "pearsonr()\n",
    "\n",
    "spearmanr()\n",
    "\n",
    "kendalltau()"
   ]
  },
  {
   "cell_type": "markdown",
   "metadata": {},
   "source": [
    "SciPy Correlation Calculation"
   ]
  },
  {
   "cell_type": "code",
   "execution_count": 7,
   "metadata": {},
   "outputs": [
    {
     "name": "stdout",
     "output_type": "stream",
     "text": [
      "(0.7586402890911869, 0.010964341301680832)\n",
      "SpearmanrResult(correlation=0.9757575757575757, pvalue=1.4675461874042197e-06)\n",
      "KendalltauResult(correlation=0.911111111111111, pvalue=2.9761904761904762e-05)\n"
     ]
    }
   ],
   "source": [
    "import numpy as np\n",
    "import scipy.stats\n",
    "\n",
    "x = np.arange(10, 20)\n",
    "y = np.array([2, 1, 4, 5, 8, 12, 18, 25, 96, 48])\n",
    "\n",
    "print(scipy.stats.pearsonr(x, y))    # Pearson's r\n",
    "\n",
    "print(scipy.stats.spearmanr(x, y))   # Spearman's rho\n",
    "\n",
    "print(scipy.stats.kendalltau(x, y))  # Kendall's tau\n"
   ]
  },
  {
   "cell_type": "code",
   "execution_count": 8,
   "metadata": {},
   "outputs": [
    {
     "name": "stdout",
     "output_type": "stream",
     "text": [
      "0.7586402890911869\n",
      "0.9757575757575757\n",
      "0.911111111111111\n"
     ]
    }
   ],
   "source": [
    "print(scipy.stats.pearsonr(x, y)[0])    # Pearson's r\n",
    "\n",
    "print(scipy.stats.spearmanr(x, y)[0])   # Spearman's rho\n",
    "\n",
    "print(scipy.stats.kendalltau(x, y)[0])  # Kendall's tau"
   ]
  },
  {
   "cell_type": "code",
   "execution_count": null,
   "metadata": {},
   "outputs": [],
   "source": [
    "scipy.stats.spearmanr(x, y).correlation   # Spearman's rho"
   ]
  },
  {
   "cell_type": "code",
   "execution_count": null,
   "metadata": {},
   "outputs": [],
   "source": [
    "scipy.stats.kendalltau(x, y).correlation  # Kendall's tau"
   ]
  },
  {
   "cell_type": "markdown",
   "metadata": {},
   "source": [
    "Pandas Correlation Calculation"
   ]
  },
  {
   "cell_type": "code",
   "execution_count": 9,
   "metadata": {},
   "outputs": [
    {
     "name": "stdout",
     "output_type": "stream",
     "text": [
      "0    10\n",
      "1    11\n",
      "2    12\n",
      "3    13\n",
      "4    14\n",
      "5    15\n",
      "6    16\n",
      "7    17\n",
      "8    18\n",
      "9    19\n",
      "dtype: int64\n",
      "0     2\n",
      "1     1\n",
      "2     4\n",
      "3     5\n",
      "4     8\n",
      "5    12\n",
      "6    18\n",
      "7    25\n",
      "8    96\n",
      "9    48\n",
      "dtype: int64\n",
      "0.9757575757575757\n",
      "0.911111111111111\n"
     ]
    }
   ],
   "source": [
    "import pandas as pd\n",
    "x = pd.Series(range(10, 20))\n",
    "print(x)\n",
    "\n",
    "y = pd.Series([2, 1, 4, 5, 8, 12, 18, 25, 96, 48])\n",
    "print(y)\n",
    "\n",
    "\n",
    "x.corr(y)                     # Pearson's r\n",
    "\n",
    "y.corr(x)\n",
    "\n",
    "print(x.corr(y, method='spearman'))  # Spearman's rho\n",
    "\n",
    "print(x.corr(y, method='kendall'))   # Kendall's tau\n"
   ]
  },
  {
   "cell_type": "markdown",
   "metadata": {},
   "source": [
    "Example"
   ]
  },
  {
   "cell_type": "code",
   "execution_count": null,
   "metadata": {},
   "outputs": [],
   "source": [
    "import pandas as pd\n",
    "x = pd.Series([14.2,16.4,11.9,15.2,18.5,22.1,19.4,25.1,23.4,18.1,22.6,17.2])\n",
    "print(x)\n",
    "\n",
    "y = pd.Series([215,325,185,332,406,522,412,614,544,421,445,408])\n",
    "print(y)\n",
    "\n",
    "\n",
    "x.corr(y)                     # Pearson's r\n",
    "\n",
    "y.corr(x)\n",
    "\n",
    "print(x.corr(y, method='spearman'))  # Spearman's rho\n",
    "\n",
    "print(x.corr(y, method='kendall'))   # Kendall's tau\n"
   ]
  },
  {
   "cell_type": "code",
   "execution_count": null,
   "metadata": {},
   "outputs": [],
   "source": []
  }
 ],
 "metadata": {
  "kernelspec": {
   "display_name": "Python 3",
   "language": "python",
   "name": "python3"
  },
  "language_info": {
   "codemirror_mode": {
    "name": "ipython",
    "version": 3
   },
   "file_extension": ".py",
   "mimetype": "text/x-python",
   "name": "python",
   "nbconvert_exporter": "python",
   "pygments_lexer": "ipython3",
   "version": "3.7.6"
  }
 },
 "nbformat": 4,
 "nbformat_minor": 4
}

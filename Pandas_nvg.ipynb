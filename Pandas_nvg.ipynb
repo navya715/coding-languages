{
 "cells": [
  {
   "cell_type": "markdown",
   "metadata": {},
   "source": [
    "PANDAS\n",
    "-------\n",
    "Pandas is an open-source Python Library providing high-performance data manipulation and analysis tool using its powerful data structures. \n",
    "\n",
    "Python with Pandas is used in a wide range of fields including academic and commercial domains including finance, economics, Statistics, analytics, etc.\n",
    "\n",
    "1D - Series\n",
    "2D - Data Frame\n",
    "3D - Panel\n",
    "\n",
    "Features of Pandas\n",
    "----------------------------\n",
    "* Fast and efficient DataFrame object with default and customized indexing.\n",
    "* Tools for loading data into in-memory data objects from different file formats.\n",
    "* Data alignment and integrated handling of missing data. Imputation\n",
    "* Reshaping and pivoting of date sets.\n",
    "* Label-based slicing, indexing and subsetting of large data sets.\n",
    "* Columns from a data structure can be deleted or inserted.\n",
    "* Group by data for aggregation and transformations.\n",
    "* High performance merging and joining of data.\n",
    "* Time Series functionality."
   ]
  },
  {
   "cell_type": "code",
   "execution_count": 1,
   "metadata": {},
   "outputs": [
    {
     "data": {
      "text/html": [
       "<div>\n",
       "<style scoped>\n",
       "    .dataframe tbody tr th:only-of-type {\n",
       "        vertical-align: middle;\n",
       "    }\n",
       "\n",
       "    .dataframe tbody tr th {\n",
       "        vertical-align: top;\n",
       "    }\n",
       "\n",
       "    .dataframe thead th {\n",
       "        text-align: right;\n",
       "    }\n",
       "</style>\n",
       "<table border=\"1\" class=\"dataframe\">\n",
       "  <thead>\n",
       "    <tr style=\"text-align: right;\">\n",
       "      <th></th>\n",
       "      <th>Country</th>\n",
       "      <th>Happiness.Rank</th>\n",
       "      <th>Happiness.Score</th>\n",
       "      <th>Whisker.high</th>\n",
       "      <th>Whisker.low</th>\n",
       "      <th>Economy..GDP.per.Capita.</th>\n",
       "      <th>Family</th>\n",
       "      <th>Health..Life.Expectancy.</th>\n",
       "      <th>Freedom</th>\n",
       "      <th>Generosity</th>\n",
       "      <th>Trust..Government.Corruption.</th>\n",
       "      <th>Dystopia.Residual</th>\n",
       "    </tr>\n",
       "  </thead>\n",
       "  <tbody>\n",
       "    <tr>\n",
       "      <th>0</th>\n",
       "      <td>Norway</td>\n",
       "      <td>1</td>\n",
       "      <td>7.537</td>\n",
       "      <td>7.594445</td>\n",
       "      <td>7.479556</td>\n",
       "      <td>1.616463</td>\n",
       "      <td>1.533524</td>\n",
       "      <td>0.796667</td>\n",
       "      <td>0.635423</td>\n",
       "      <td>0.362012</td>\n",
       "      <td>0.315964</td>\n",
       "      <td>NaN</td>\n",
       "    </tr>\n",
       "    <tr>\n",
       "      <th>1</th>\n",
       "      <td>Denmark</td>\n",
       "      <td>2</td>\n",
       "      <td>7.522</td>\n",
       "      <td>7.581728</td>\n",
       "      <td>7.462272</td>\n",
       "      <td>1.482383</td>\n",
       "      <td>1.551122</td>\n",
       "      <td>0.792566</td>\n",
       "      <td>0.626007</td>\n",
       "      <td>0.355280</td>\n",
       "      <td>0.400770</td>\n",
       "      <td>2.313707</td>\n",
       "    </tr>\n",
       "    <tr>\n",
       "      <th>2</th>\n",
       "      <td>Iceland</td>\n",
       "      <td>3</td>\n",
       "      <td>7.504</td>\n",
       "      <td>7.622030</td>\n",
       "      <td>7.385970</td>\n",
       "      <td>1.480633</td>\n",
       "      <td>1.610574</td>\n",
       "      <td>0.833552</td>\n",
       "      <td>0.627163</td>\n",
       "      <td>0.475540</td>\n",
       "      <td>0.153527</td>\n",
       "      <td>NaN</td>\n",
       "    </tr>\n",
       "    <tr>\n",
       "      <th>3</th>\n",
       "      <td>Switzerland</td>\n",
       "      <td>4</td>\n",
       "      <td>7.494</td>\n",
       "      <td>7.561772</td>\n",
       "      <td>7.426227</td>\n",
       "      <td>1.564980</td>\n",
       "      <td>1.516912</td>\n",
       "      <td>0.858131</td>\n",
       "      <td>0.620071</td>\n",
       "      <td>0.290549</td>\n",
       "      <td>0.367007</td>\n",
       "      <td>2.276716</td>\n",
       "    </tr>\n",
       "    <tr>\n",
       "      <th>4</th>\n",
       "      <td>Finland</td>\n",
       "      <td>5</td>\n",
       "      <td>7.469</td>\n",
       "      <td>7.527542</td>\n",
       "      <td>7.410458</td>\n",
       "      <td>1.443572</td>\n",
       "      <td>1.540247</td>\n",
       "      <td>0.809158</td>\n",
       "      <td>0.617951</td>\n",
       "      <td>0.245483</td>\n",
       "      <td>0.382612</td>\n",
       "      <td>2.430182</td>\n",
       "    </tr>\n",
       "    <tr>\n",
       "      <th>...</th>\n",
       "      <td>...</td>\n",
       "      <td>...</td>\n",
       "      <td>...</td>\n",
       "      <td>...</td>\n",
       "      <td>...</td>\n",
       "      <td>...</td>\n",
       "      <td>...</td>\n",
       "      <td>...</td>\n",
       "      <td>...</td>\n",
       "      <td>...</td>\n",
       "      <td>...</td>\n",
       "      <td>...</td>\n",
       "    </tr>\n",
       "    <tr>\n",
       "      <th>150</th>\n",
       "      <td>Rwanda</td>\n",
       "      <td>151</td>\n",
       "      <td>3.471</td>\n",
       "      <td>3.543030</td>\n",
       "      <td>3.398970</td>\n",
       "      <td>0.368746</td>\n",
       "      <td>0.945707</td>\n",
       "      <td>0.326425</td>\n",
       "      <td>0.581844</td>\n",
       "      <td>0.252756</td>\n",
       "      <td>0.455220</td>\n",
       "      <td>0.540061</td>\n",
       "    </tr>\n",
       "    <tr>\n",
       "      <th>151</th>\n",
       "      <td>Syria</td>\n",
       "      <td>152</td>\n",
       "      <td>3.462</td>\n",
       "      <td>3.663669</td>\n",
       "      <td>3.260331</td>\n",
       "      <td>0.777153</td>\n",
       "      <td>0.396103</td>\n",
       "      <td>0.500533</td>\n",
       "      <td>0.081539</td>\n",
       "      <td>0.493664</td>\n",
       "      <td>0.151347</td>\n",
       "      <td>1.061574</td>\n",
       "    </tr>\n",
       "    <tr>\n",
       "      <th>152</th>\n",
       "      <td>Tanzania</td>\n",
       "      <td>153</td>\n",
       "      <td>3.349</td>\n",
       "      <td>3.461430</td>\n",
       "      <td>3.236570</td>\n",
       "      <td>0.511136</td>\n",
       "      <td>1.041990</td>\n",
       "      <td>0.364509</td>\n",
       "      <td>0.390018</td>\n",
       "      <td>0.354256</td>\n",
       "      <td>0.066035</td>\n",
       "      <td>0.621130</td>\n",
       "    </tr>\n",
       "    <tr>\n",
       "      <th>153</th>\n",
       "      <td>Burundi</td>\n",
       "      <td>154</td>\n",
       "      <td>2.905</td>\n",
       "      <td>3.074690</td>\n",
       "      <td>2.735310</td>\n",
       "      <td>0.091623</td>\n",
       "      <td>0.629794</td>\n",
       "      <td>0.151611</td>\n",
       "      <td>0.059901</td>\n",
       "      <td>0.204435</td>\n",
       "      <td>0.084148</td>\n",
       "      <td>1.683024</td>\n",
       "    </tr>\n",
       "    <tr>\n",
       "      <th>154</th>\n",
       "      <td>Central African Republic</td>\n",
       "      <td>155</td>\n",
       "      <td>2.693</td>\n",
       "      <td>2.864884</td>\n",
       "      <td>2.521116</td>\n",
       "      <td>0.000000</td>\n",
       "      <td>0.000000</td>\n",
       "      <td>0.018773</td>\n",
       "      <td>0.270842</td>\n",
       "      <td>0.280876</td>\n",
       "      <td>0.056565</td>\n",
       "      <td>2.066005</td>\n",
       "    </tr>\n",
       "  </tbody>\n",
       "</table>\n",
       "<p>155 rows × 12 columns</p>\n",
       "</div>"
      ],
      "text/plain": [
       "                      Country  Happiness.Rank  Happiness.Score  Whisker.high  \\\n",
       "0                      Norway               1            7.537      7.594445   \n",
       "1                     Denmark               2            7.522      7.581728   \n",
       "2                     Iceland               3            7.504      7.622030   \n",
       "3                 Switzerland               4            7.494      7.561772   \n",
       "4                     Finland               5            7.469      7.527542   \n",
       "..                        ...             ...              ...           ...   \n",
       "150                    Rwanda             151            3.471      3.543030   \n",
       "151                     Syria             152            3.462      3.663669   \n",
       "152                  Tanzania             153            3.349      3.461430   \n",
       "153                   Burundi             154            2.905      3.074690   \n",
       "154  Central African Republic             155            2.693      2.864884   \n",
       "\n",
       "     Whisker.low  Economy..GDP.per.Capita.    Family  \\\n",
       "0       7.479556                  1.616463  1.533524   \n",
       "1       7.462272                  1.482383  1.551122   \n",
       "2       7.385970                  1.480633  1.610574   \n",
       "3       7.426227                  1.564980  1.516912   \n",
       "4       7.410458                  1.443572  1.540247   \n",
       "..           ...                       ...       ...   \n",
       "150     3.398970                  0.368746  0.945707   \n",
       "151     3.260331                  0.777153  0.396103   \n",
       "152     3.236570                  0.511136  1.041990   \n",
       "153     2.735310                  0.091623  0.629794   \n",
       "154     2.521116                  0.000000  0.000000   \n",
       "\n",
       "     Health..Life.Expectancy.   Freedom  Generosity  \\\n",
       "0                    0.796667  0.635423    0.362012   \n",
       "1                    0.792566  0.626007    0.355280   \n",
       "2                    0.833552  0.627163    0.475540   \n",
       "3                    0.858131  0.620071    0.290549   \n",
       "4                    0.809158  0.617951    0.245483   \n",
       "..                        ...       ...         ...   \n",
       "150                  0.326425  0.581844    0.252756   \n",
       "151                  0.500533  0.081539    0.493664   \n",
       "152                  0.364509  0.390018    0.354256   \n",
       "153                  0.151611  0.059901    0.204435   \n",
       "154                  0.018773  0.270842    0.280876   \n",
       "\n",
       "     Trust..Government.Corruption.  Dystopia.Residual  \n",
       "0                         0.315964                NaN  \n",
       "1                         0.400770           2.313707  \n",
       "2                         0.153527                NaN  \n",
       "3                         0.367007           2.276716  \n",
       "4                         0.382612           2.430182  \n",
       "..                             ...                ...  \n",
       "150                       0.455220           0.540061  \n",
       "151                       0.151347           1.061574  \n",
       "152                       0.066035           0.621130  \n",
       "153                       0.084148           1.683024  \n",
       "154                       0.056565           2.066005  \n",
       "\n",
       "[155 rows x 12 columns]"
      ]
     },
     "execution_count": 1,
     "metadata": {},
     "output_type": "execute_result"
    }
   ],
   "source": [
    "import pandas as pd \n",
    "\n",
    "df = pd.read_csv('2017.csv')\n",
    "df"
   ]
  },
  {
   "cell_type": "code",
   "execution_count": 2,
   "metadata": {},
   "outputs": [
    {
     "data": {
      "text/plain": [
       "0                        Norway\n",
       "1                       Denmark\n",
       "2                       Iceland\n",
       "3                   Switzerland\n",
       "4                       Finland\n",
       "                 ...           \n",
       "150                      Rwanda\n",
       "151                       Syria\n",
       "152                    Tanzania\n",
       "153                     Burundi\n",
       "154    Central African Republic\n",
       "Name: Country, Length: 155, dtype: object"
      ]
     },
     "execution_count": 2,
     "metadata": {},
     "output_type": "execute_result"
    }
   ],
   "source": [
    "df['Country']"
   ]
  },
  {
   "cell_type": "code",
   "execution_count": 3,
   "metadata": {},
   "outputs": [
    {
     "data": {
      "text/html": [
       "<div>\n",
       "<style scoped>\n",
       "    .dataframe tbody tr th:only-of-type {\n",
       "        vertical-align: middle;\n",
       "    }\n",
       "\n",
       "    .dataframe tbody tr th {\n",
       "        vertical-align: top;\n",
       "    }\n",
       "\n",
       "    .dataframe thead th {\n",
       "        text-align: right;\n",
       "    }\n",
       "</style>\n",
       "<table border=\"1\" class=\"dataframe\">\n",
       "  <thead>\n",
       "    <tr style=\"text-align: right;\">\n",
       "      <th></th>\n",
       "      <th>Country</th>\n",
       "      <th>Happiness.Rank</th>\n",
       "    </tr>\n",
       "  </thead>\n",
       "  <tbody>\n",
       "    <tr>\n",
       "      <th>0</th>\n",
       "      <td>Norway</td>\n",
       "      <td>1</td>\n",
       "    </tr>\n",
       "    <tr>\n",
       "      <th>1</th>\n",
       "      <td>Denmark</td>\n",
       "      <td>2</td>\n",
       "    </tr>\n",
       "    <tr>\n",
       "      <th>2</th>\n",
       "      <td>Iceland</td>\n",
       "      <td>3</td>\n",
       "    </tr>\n",
       "    <tr>\n",
       "      <th>3</th>\n",
       "      <td>Switzerland</td>\n",
       "      <td>4</td>\n",
       "    </tr>\n",
       "    <tr>\n",
       "      <th>4</th>\n",
       "      <td>Finland</td>\n",
       "      <td>5</td>\n",
       "    </tr>\n",
       "  </tbody>\n",
       "</table>\n",
       "</div>"
      ],
      "text/plain": [
       "       Country  Happiness.Rank\n",
       "0       Norway               1\n",
       "1      Denmark               2\n",
       "2      Iceland               3\n",
       "3  Switzerland               4\n",
       "4      Finland               5"
      ]
     },
     "execution_count": 3,
     "metadata": {},
     "output_type": "execute_result"
    }
   ],
   "source": [
    "df[['Country','Happiness.Rank']].head()"
   ]
  },
  {
   "cell_type": "code",
   "execution_count": 4,
   "metadata": {},
   "outputs": [
    {
     "data": {
      "text/html": [
       "<div>\n",
       "<style scoped>\n",
       "    .dataframe tbody tr th:only-of-type {\n",
       "        vertical-align: middle;\n",
       "    }\n",
       "\n",
       "    .dataframe tbody tr th {\n",
       "        vertical-align: top;\n",
       "    }\n",
       "\n",
       "    .dataframe thead th {\n",
       "        text-align: right;\n",
       "    }\n",
       "</style>\n",
       "<table border=\"1\" class=\"dataframe\">\n",
       "  <thead>\n",
       "    <tr style=\"text-align: right;\">\n",
       "      <th></th>\n",
       "      <th>Country</th>\n",
       "      <th>Happiness.Rank</th>\n",
       "      <th>Happiness.Score</th>\n",
       "      <th>Whisker.high</th>\n",
       "      <th>Whisker.low</th>\n",
       "      <th>Economy..GDP.per.Capita.</th>\n",
       "      <th>Family</th>\n",
       "      <th>Health..Life.Expectancy.</th>\n",
       "      <th>Freedom</th>\n",
       "      <th>Generosity</th>\n",
       "      <th>Trust..Government.Corruption.</th>\n",
       "      <th>Dystopia.Residual</th>\n",
       "    </tr>\n",
       "  </thead>\n",
       "  <tbody>\n",
       "    <tr>\n",
       "      <th>0</th>\n",
       "      <td>Norway</td>\n",
       "      <td>1</td>\n",
       "      <td>7.537</td>\n",
       "      <td>7.594445</td>\n",
       "      <td>7.479556</td>\n",
       "      <td>1.616463</td>\n",
       "      <td>1.533524</td>\n",
       "      <td>0.796667</td>\n",
       "      <td>0.635423</td>\n",
       "      <td>0.362012</td>\n",
       "      <td>0.315964</td>\n",
       "      <td>NaN</td>\n",
       "    </tr>\n",
       "    <tr>\n",
       "      <th>1</th>\n",
       "      <td>Denmark</td>\n",
       "      <td>2</td>\n",
       "      <td>7.522</td>\n",
       "      <td>7.581728</td>\n",
       "      <td>7.462272</td>\n",
       "      <td>1.482383</td>\n",
       "      <td>1.551122</td>\n",
       "      <td>0.792566</td>\n",
       "      <td>0.626007</td>\n",
       "      <td>0.355280</td>\n",
       "      <td>0.400770</td>\n",
       "      <td>2.313707</td>\n",
       "    </tr>\n",
       "    <tr>\n",
       "      <th>2</th>\n",
       "      <td>Iceland</td>\n",
       "      <td>3</td>\n",
       "      <td>7.504</td>\n",
       "      <td>7.622030</td>\n",
       "      <td>7.385970</td>\n",
       "      <td>1.480633</td>\n",
       "      <td>1.610574</td>\n",
       "      <td>0.833552</td>\n",
       "      <td>0.627163</td>\n",
       "      <td>0.475540</td>\n",
       "      <td>0.153527</td>\n",
       "      <td>NaN</td>\n",
       "    </tr>\n",
       "    <tr>\n",
       "      <th>3</th>\n",
       "      <td>Switzerland</td>\n",
       "      <td>4</td>\n",
       "      <td>7.494</td>\n",
       "      <td>7.561772</td>\n",
       "      <td>7.426227</td>\n",
       "      <td>1.564980</td>\n",
       "      <td>1.516912</td>\n",
       "      <td>0.858131</td>\n",
       "      <td>0.620071</td>\n",
       "      <td>0.290549</td>\n",
       "      <td>0.367007</td>\n",
       "      <td>2.276716</td>\n",
       "    </tr>\n",
       "    <tr>\n",
       "      <th>4</th>\n",
       "      <td>Finland</td>\n",
       "      <td>5</td>\n",
       "      <td>7.469</td>\n",
       "      <td>7.527542</td>\n",
       "      <td>7.410458</td>\n",
       "      <td>1.443572</td>\n",
       "      <td>1.540247</td>\n",
       "      <td>0.809158</td>\n",
       "      <td>0.617951</td>\n",
       "      <td>0.245483</td>\n",
       "      <td>0.382612</td>\n",
       "      <td>2.430182</td>\n",
       "    </tr>\n",
       "  </tbody>\n",
       "</table>\n",
       "</div>"
      ],
      "text/plain": [
       "       Country  Happiness.Rank  Happiness.Score  Whisker.high  Whisker.low  \\\n",
       "0       Norway               1            7.537      7.594445     7.479556   \n",
       "1      Denmark               2            7.522      7.581728     7.462272   \n",
       "2      Iceland               3            7.504      7.622030     7.385970   \n",
       "3  Switzerland               4            7.494      7.561772     7.426227   \n",
       "4      Finland               5            7.469      7.527542     7.410458   \n",
       "\n",
       "   Economy..GDP.per.Capita.    Family  Health..Life.Expectancy.   Freedom  \\\n",
       "0                  1.616463  1.533524                  0.796667  0.635423   \n",
       "1                  1.482383  1.551122                  0.792566  0.626007   \n",
       "2                  1.480633  1.610574                  0.833552  0.627163   \n",
       "3                  1.564980  1.516912                  0.858131  0.620071   \n",
       "4                  1.443572  1.540247                  0.809158  0.617951   \n",
       "\n",
       "   Generosity  Trust..Government.Corruption.  Dystopia.Residual  \n",
       "0    0.362012                       0.315964                NaN  \n",
       "1    0.355280                       0.400770           2.313707  \n",
       "2    0.475540                       0.153527                NaN  \n",
       "3    0.290549                       0.367007           2.276716  \n",
       "4    0.245483                       0.382612           2.430182  "
      ]
     },
     "execution_count": 4,
     "metadata": {},
     "output_type": "execute_result"
    }
   ],
   "source": [
    "df[:5]"
   ]
  },
  {
   "cell_type": "code",
   "execution_count": 5,
   "metadata": {},
   "outputs": [
    {
     "data": {
      "text/html": [
       "<div>\n",
       "<style scoped>\n",
       "    .dataframe tbody tr th:only-of-type {\n",
       "        vertical-align: middle;\n",
       "    }\n",
       "\n",
       "    .dataframe tbody tr th {\n",
       "        vertical-align: top;\n",
       "    }\n",
       "\n",
       "    .dataframe thead th {\n",
       "        text-align: right;\n",
       "    }\n",
       "</style>\n",
       "<table border=\"1\" class=\"dataframe\">\n",
       "  <thead>\n",
       "    <tr style=\"text-align: right;\">\n",
       "      <th></th>\n",
       "      <th>Country</th>\n",
       "      <th>Happiness.Rank</th>\n",
       "    </tr>\n",
       "  </thead>\n",
       "  <tbody>\n",
       "    <tr>\n",
       "      <th>0</th>\n",
       "      <td>Norway</td>\n",
       "      <td>1</td>\n",
       "    </tr>\n",
       "    <tr>\n",
       "      <th>1</th>\n",
       "      <td>Denmark</td>\n",
       "      <td>2</td>\n",
       "    </tr>\n",
       "    <tr>\n",
       "      <th>2</th>\n",
       "      <td>Iceland</td>\n",
       "      <td>3</td>\n",
       "    </tr>\n",
       "    <tr>\n",
       "      <th>3</th>\n",
       "      <td>Switzerland</td>\n",
       "      <td>4</td>\n",
       "    </tr>\n",
       "    <tr>\n",
       "      <th>4</th>\n",
       "      <td>Finland</td>\n",
       "      <td>5</td>\n",
       "    </tr>\n",
       "    <tr>\n",
       "      <th>...</th>\n",
       "      <td>...</td>\n",
       "      <td>...</td>\n",
       "    </tr>\n",
       "    <tr>\n",
       "      <th>150</th>\n",
       "      <td>Rwanda</td>\n",
       "      <td>151</td>\n",
       "    </tr>\n",
       "    <tr>\n",
       "      <th>151</th>\n",
       "      <td>Syria</td>\n",
       "      <td>152</td>\n",
       "    </tr>\n",
       "    <tr>\n",
       "      <th>152</th>\n",
       "      <td>Tanzania</td>\n",
       "      <td>153</td>\n",
       "    </tr>\n",
       "    <tr>\n",
       "      <th>153</th>\n",
       "      <td>Burundi</td>\n",
       "      <td>154</td>\n",
       "    </tr>\n",
       "    <tr>\n",
       "      <th>154</th>\n",
       "      <td>Central African Republic</td>\n",
       "      <td>155</td>\n",
       "    </tr>\n",
       "  </tbody>\n",
       "</table>\n",
       "<p>155 rows × 2 columns</p>\n",
       "</div>"
      ],
      "text/plain": [
       "                      Country  Happiness.Rank\n",
       "0                      Norway               1\n",
       "1                     Denmark               2\n",
       "2                     Iceland               3\n",
       "3                 Switzerland               4\n",
       "4                     Finland               5\n",
       "..                        ...             ...\n",
       "150                    Rwanda             151\n",
       "151                     Syria             152\n",
       "152                  Tanzania             153\n",
       "153                   Burundi             154\n",
       "154  Central African Republic             155\n",
       "\n",
       "[155 rows x 2 columns]"
      ]
     },
     "execution_count": 5,
     "metadata": {},
     "output_type": "execute_result"
    }
   ],
   "source": [
    "df.iloc[:,:2]"
   ]
  },
  {
   "cell_type": "code",
   "execution_count": 6,
   "metadata": {},
   "outputs": [
    {
     "data": {
      "text/html": [
       "<div>\n",
       "<style scoped>\n",
       "    .dataframe tbody tr th:only-of-type {\n",
       "        vertical-align: middle;\n",
       "    }\n",
       "\n",
       "    .dataframe tbody tr th {\n",
       "        vertical-align: top;\n",
       "    }\n",
       "\n",
       "    .dataframe thead th {\n",
       "        text-align: right;\n",
       "    }\n",
       "</style>\n",
       "<table border=\"1\" class=\"dataframe\">\n",
       "  <thead>\n",
       "    <tr style=\"text-align: right;\">\n",
       "      <th></th>\n",
       "      <th>Country</th>\n",
       "      <th>Happiness.Rank</th>\n",
       "    </tr>\n",
       "  </thead>\n",
       "  <tbody>\n",
       "    <tr>\n",
       "      <th>0</th>\n",
       "      <td>Norway</td>\n",
       "      <td>1</td>\n",
       "    </tr>\n",
       "    <tr>\n",
       "      <th>1</th>\n",
       "      <td>Denmark</td>\n",
       "      <td>2</td>\n",
       "    </tr>\n",
       "    <tr>\n",
       "      <th>2</th>\n",
       "      <td>Iceland</td>\n",
       "      <td>3</td>\n",
       "    </tr>\n",
       "    <tr>\n",
       "      <th>3</th>\n",
       "      <td>Switzerland</td>\n",
       "      <td>4</td>\n",
       "    </tr>\n",
       "    <tr>\n",
       "      <th>4</th>\n",
       "      <td>Finland</td>\n",
       "      <td>5</td>\n",
       "    </tr>\n",
       "  </tbody>\n",
       "</table>\n",
       "</div>"
      ],
      "text/plain": [
       "       Country  Happiness.Rank\n",
       "0       Norway               1\n",
       "1      Denmark               2\n",
       "2      Iceland               3\n",
       "3  Switzerland               4\n",
       "4      Finland               5"
      ]
     },
     "execution_count": 6,
     "metadata": {},
     "output_type": "execute_result"
    }
   ],
   "source": [
    "df.iloc[:5,:2]"
   ]
  },
  {
   "cell_type": "code",
   "execution_count": 7,
   "metadata": {},
   "outputs": [
    {
     "data": {
      "text/html": [
       "<div>\n",
       "<style scoped>\n",
       "    .dataframe tbody tr th:only-of-type {\n",
       "        vertical-align: middle;\n",
       "    }\n",
       "\n",
       "    .dataframe tbody tr th {\n",
       "        vertical-align: top;\n",
       "    }\n",
       "\n",
       "    .dataframe thead th {\n",
       "        text-align: right;\n",
       "    }\n",
       "</style>\n",
       "<table border=\"1\" class=\"dataframe\">\n",
       "  <thead>\n",
       "    <tr style=\"text-align: right;\">\n",
       "      <th></th>\n",
       "      <th>Country</th>\n",
       "      <th>Happiness.Rank</th>\n",
       "      <th>Happiness.Score</th>\n",
       "      <th>Whisker.high</th>\n",
       "      <th>Whisker.low</th>\n",
       "      <th>Economy..GDP.per.Capita.</th>\n",
       "      <th>Family</th>\n",
       "      <th>Health..Life.Expectancy.</th>\n",
       "      <th>Freedom</th>\n",
       "      <th>Generosity</th>\n",
       "      <th>Trust..Government.Corruption.</th>\n",
       "      <th>Dystopia.Residual</th>\n",
       "    </tr>\n",
       "  </thead>\n",
       "  <tbody>\n",
       "    <tr>\n",
       "      <th>0</th>\n",
       "      <td>Norway</td>\n",
       "      <td>1</td>\n",
       "      <td>7.537</td>\n",
       "      <td>7.594445</td>\n",
       "      <td>7.479556</td>\n",
       "      <td>1.616463</td>\n",
       "      <td>1.533524</td>\n",
       "      <td>0.796667</td>\n",
       "      <td>0.635423</td>\n",
       "      <td>0.362012</td>\n",
       "      <td>0.315964</td>\n",
       "      <td>NaN</td>\n",
       "    </tr>\n",
       "  </tbody>\n",
       "</table>\n",
       "</div>"
      ],
      "text/plain": [
       "  Country  Happiness.Rank  Happiness.Score  Whisker.high  Whisker.low  \\\n",
       "0  Norway               1            7.537      7.594445     7.479556   \n",
       "\n",
       "   Economy..GDP.per.Capita.    Family  Health..Life.Expectancy.   Freedom  \\\n",
       "0                  1.616463  1.533524                  0.796667  0.635423   \n",
       "\n",
       "   Generosity  Trust..Government.Corruption.  Dystopia.Residual  \n",
       "0    0.362012                       0.315964                NaN  "
      ]
     },
     "execution_count": 7,
     "metadata": {},
     "output_type": "execute_result"
    }
   ],
   "source": [
    "df[df['Country']=='Norway']"
   ]
  },
  {
   "cell_type": "code",
   "execution_count": 8,
   "metadata": {},
   "outputs": [
    {
     "data": {
      "text/html": [
       "<div>\n",
       "<style scoped>\n",
       "    .dataframe tbody tr th:only-of-type {\n",
       "        vertical-align: middle;\n",
       "    }\n",
       "\n",
       "    .dataframe tbody tr th {\n",
       "        vertical-align: top;\n",
       "    }\n",
       "\n",
       "    .dataframe thead th {\n",
       "        text-align: right;\n",
       "    }\n",
       "</style>\n",
       "<table border=\"1\" class=\"dataframe\">\n",
       "  <thead>\n",
       "    <tr style=\"text-align: right;\">\n",
       "      <th></th>\n",
       "      <th>Country</th>\n",
       "      <th>Happiness.Rank</th>\n",
       "      <th>Happiness.Score</th>\n",
       "      <th>Whisker.high</th>\n",
       "      <th>Whisker.low</th>\n",
       "      <th>Economy..GDP.per.Capita.</th>\n",
       "      <th>Family</th>\n",
       "      <th>Health..Life.Expectancy.</th>\n",
       "      <th>Freedom</th>\n",
       "      <th>Generosity</th>\n",
       "      <th>Trust..Government.Corruption.</th>\n",
       "      <th>Dystopia.Residual</th>\n",
       "    </tr>\n",
       "  </thead>\n",
       "  <tbody>\n",
       "    <tr>\n",
       "      <th>139</th>\n",
       "      <td>Angola</td>\n",
       "      <td>140</td>\n",
       "      <td>3.795</td>\n",
       "      <td>3.951642</td>\n",
       "      <td>3.638358</td>\n",
       "      <td>0.858428</td>\n",
       "      <td>1.104412</td>\n",
       "      <td>0.049869</td>\n",
       "      <td>0.000000</td>\n",
       "      <td>0.097926</td>\n",
       "      <td>0.069720</td>\n",
       "      <td>1.614482</td>\n",
       "    </tr>\n",
       "    <tr>\n",
       "      <th>129</th>\n",
       "      <td>Sudan</td>\n",
       "      <td>130</td>\n",
       "      <td>4.139</td>\n",
       "      <td>4.345747</td>\n",
       "      <td>3.932253</td>\n",
       "      <td>0.659517</td>\n",
       "      <td>1.214009</td>\n",
       "      <td>0.290921</td>\n",
       "      <td>0.014996</td>\n",
       "      <td>0.182317</td>\n",
       "      <td>0.089848</td>\n",
       "      <td>1.687066</td>\n",
       "    </tr>\n",
       "    <tr>\n",
       "      <th>144</th>\n",
       "      <td>Haiti</td>\n",
       "      <td>145</td>\n",
       "      <td>3.603</td>\n",
       "      <td>3.734715</td>\n",
       "      <td>3.471285</td>\n",
       "      <td>0.368610</td>\n",
       "      <td>0.640450</td>\n",
       "      <td>0.277321</td>\n",
       "      <td>0.030370</td>\n",
       "      <td>0.489204</td>\n",
       "      <td>0.099872</td>\n",
       "      <td>1.697168</td>\n",
       "    </tr>\n",
       "    <tr>\n",
       "      <th>153</th>\n",
       "      <td>Burundi</td>\n",
       "      <td>154</td>\n",
       "      <td>2.905</td>\n",
       "      <td>3.074690</td>\n",
       "      <td>2.735310</td>\n",
       "      <td>0.091623</td>\n",
       "      <td>0.629794</td>\n",
       "      <td>0.151611</td>\n",
       "      <td>0.059901</td>\n",
       "      <td>0.204435</td>\n",
       "      <td>0.084148</td>\n",
       "      <td>1.683024</td>\n",
       "    </tr>\n",
       "    <tr>\n",
       "      <th>151</th>\n",
       "      <td>Syria</td>\n",
       "      <td>152</td>\n",
       "      <td>3.462</td>\n",
       "      <td>3.663669</td>\n",
       "      <td>3.260331</td>\n",
       "      <td>0.777153</td>\n",
       "      <td>0.396103</td>\n",
       "      <td>0.500533</td>\n",
       "      <td>0.081539</td>\n",
       "      <td>0.493664</td>\n",
       "      <td>0.151347</td>\n",
       "      <td>1.061574</td>\n",
       "    </tr>\n",
       "  </tbody>\n",
       "</table>\n",
       "</div>"
      ],
      "text/plain": [
       "     Country  Happiness.Rank  Happiness.Score  Whisker.high  Whisker.low  \\\n",
       "139   Angola             140            3.795      3.951642     3.638358   \n",
       "129    Sudan             130            4.139      4.345747     3.932253   \n",
       "144    Haiti             145            3.603      3.734715     3.471285   \n",
       "153  Burundi             154            2.905      3.074690     2.735310   \n",
       "151    Syria             152            3.462      3.663669     3.260331   \n",
       "\n",
       "     Economy..GDP.per.Capita.    Family  Health..Life.Expectancy.   Freedom  \\\n",
       "139                  0.858428  1.104412                  0.049869  0.000000   \n",
       "129                  0.659517  1.214009                  0.290921  0.014996   \n",
       "144                  0.368610  0.640450                  0.277321  0.030370   \n",
       "153                  0.091623  0.629794                  0.151611  0.059901   \n",
       "151                  0.777153  0.396103                  0.500533  0.081539   \n",
       "\n",
       "     Generosity  Trust..Government.Corruption.  Dystopia.Residual  \n",
       "139    0.097926                       0.069720           1.614482  \n",
       "129    0.182317                       0.089848           1.687066  \n",
       "144    0.489204                       0.099872           1.697168  \n",
       "153    0.204435                       0.084148           1.683024  \n",
       "151    0.493664                       0.151347           1.061574  "
      ]
     },
     "execution_count": 8,
     "metadata": {},
     "output_type": "execute_result"
    }
   ],
   "source": [
    "sorted_data = df.sort_values(by='Freedom')\n",
    "sorted_data[:5]"
   ]
  },
  {
   "cell_type": "code",
   "execution_count": 10,
   "metadata": {},
   "outputs": [
    {
     "name": "stdout",
     "output_type": "stream",
     "text": [
      "None\n"
     ]
    }
   ],
   "source": [
    "sorted_data1 = df.sort_values(by='Country', ascending=False,inplace=True)\n",
    "print(sorted_data1)"
   ]
  },
  {
   "cell_type": "code",
   "execution_count": 11,
   "metadata": {},
   "outputs": [
    {
     "data": {
      "text/html": [
       "<div>\n",
       "<style scoped>\n",
       "    .dataframe tbody tr th:only-of-type {\n",
       "        vertical-align: middle;\n",
       "    }\n",
       "\n",
       "    .dataframe tbody tr th {\n",
       "        vertical-align: top;\n",
       "    }\n",
       "\n",
       "    .dataframe thead th {\n",
       "        text-align: right;\n",
       "    }\n",
       "</style>\n",
       "<table border=\"1\" class=\"dataframe\">\n",
       "  <thead>\n",
       "    <tr style=\"text-align: right;\">\n",
       "      <th></th>\n",
       "      <th>Country</th>\n",
       "      <th>Happiness.Rank</th>\n",
       "      <th>Happiness.Score</th>\n",
       "      <th>Whisker.high</th>\n",
       "      <th>Whisker.low</th>\n",
       "      <th>Economy..GDP.per.Capita.</th>\n",
       "      <th>Family</th>\n",
       "      <th>Health..Life.Expectancy.</th>\n",
       "      <th>Freedom</th>\n",
       "      <th>Generosity</th>\n",
       "      <th>Trust..Government.Corruption.</th>\n",
       "      <th>Dystopia.Residual</th>\n",
       "    </tr>\n",
       "  </thead>\n",
       "  <tbody>\n",
       "    <tr>\n",
       "      <th>137</th>\n",
       "      <td>Zimbabwe</td>\n",
       "      <td>138</td>\n",
       "      <td>3.875</td>\n",
       "      <td>3.978700</td>\n",
       "      <td>3.771300</td>\n",
       "      <td>0.375847</td>\n",
       "      <td>1.083096</td>\n",
       "      <td>0.196764</td>\n",
       "      <td>0.336384</td>\n",
       "      <td>0.189143</td>\n",
       "      <td>0.095375</td>\n",
       "      <td>1.597970</td>\n",
       "    </tr>\n",
       "    <tr>\n",
       "      <th>115</th>\n",
       "      <td>Zambia</td>\n",
       "      <td>116</td>\n",
       "      <td>4.514</td>\n",
       "      <td>4.644106</td>\n",
       "      <td>4.383894</td>\n",
       "      <td>0.636407</td>\n",
       "      <td>1.003187</td>\n",
       "      <td>0.257836</td>\n",
       "      <td>0.461603</td>\n",
       "      <td>0.249580</td>\n",
       "      <td>0.078214</td>\n",
       "      <td>1.826705</td>\n",
       "    </tr>\n",
       "    <tr>\n",
       "      <th>145</th>\n",
       "      <td>Yemen</td>\n",
       "      <td>146</td>\n",
       "      <td>3.593</td>\n",
       "      <td>3.692750</td>\n",
       "      <td>3.493250</td>\n",
       "      <td>0.591683</td>\n",
       "      <td>0.935382</td>\n",
       "      <td>0.310081</td>\n",
       "      <td>0.249464</td>\n",
       "      <td>0.104125</td>\n",
       "      <td>0.056767</td>\n",
       "      <td>1.345601</td>\n",
       "    </tr>\n",
       "    <tr>\n",
       "      <th>93</th>\n",
       "      <td>Vietnam</td>\n",
       "      <td>94</td>\n",
       "      <td>5.074</td>\n",
       "      <td>5.147281</td>\n",
       "      <td>5.000719</td>\n",
       "      <td>0.788548</td>\n",
       "      <td>1.277491</td>\n",
       "      <td>0.652169</td>\n",
       "      <td>0.571056</td>\n",
       "      <td>0.234968</td>\n",
       "      <td>0.087633</td>\n",
       "      <td>1.462319</td>\n",
       "    </tr>\n",
       "    <tr>\n",
       "      <th>81</th>\n",
       "      <td>Venezuela</td>\n",
       "      <td>82</td>\n",
       "      <td>5.250</td>\n",
       "      <td>5.370032</td>\n",
       "      <td>5.129968</td>\n",
       "      <td>1.128431</td>\n",
       "      <td>1.431338</td>\n",
       "      <td>0.617144</td>\n",
       "      <td>0.153997</td>\n",
       "      <td>0.065020</td>\n",
       "      <td>0.064491</td>\n",
       "      <td>1.789464</td>\n",
       "    </tr>\n",
       "    <tr>\n",
       "      <th>...</th>\n",
       "      <td>...</td>\n",
       "      <td>...</td>\n",
       "      <td>...</td>\n",
       "      <td>...</td>\n",
       "      <td>...</td>\n",
       "      <td>...</td>\n",
       "      <td>...</td>\n",
       "      <td>...</td>\n",
       "      <td>...</td>\n",
       "      <td>...</td>\n",
       "      <td>...</td>\n",
       "      <td>...</td>\n",
       "    </tr>\n",
       "    <tr>\n",
       "      <th>23</th>\n",
       "      <td>Argentina</td>\n",
       "      <td>24</td>\n",
       "      <td>6.599</td>\n",
       "      <td>6.690085</td>\n",
       "      <td>6.507915</td>\n",
       "      <td>1.185295</td>\n",
       "      <td>1.440451</td>\n",
       "      <td>0.695137</td>\n",
       "      <td>0.494519</td>\n",
       "      <td>0.109457</td>\n",
       "      <td>0.059740</td>\n",
       "      <td>2.614005</td>\n",
       "    </tr>\n",
       "    <tr>\n",
       "      <th>139</th>\n",
       "      <td>Angola</td>\n",
       "      <td>140</td>\n",
       "      <td>3.795</td>\n",
       "      <td>3.951642</td>\n",
       "      <td>3.638358</td>\n",
       "      <td>0.858428</td>\n",
       "      <td>1.104412</td>\n",
       "      <td>0.049869</td>\n",
       "      <td>0.000000</td>\n",
       "      <td>0.097926</td>\n",
       "      <td>0.069720</td>\n",
       "      <td>1.614482</td>\n",
       "    </tr>\n",
       "    <tr>\n",
       "      <th>52</th>\n",
       "      <td>Algeria</td>\n",
       "      <td>53</td>\n",
       "      <td>5.872</td>\n",
       "      <td>5.978286</td>\n",
       "      <td>5.765714</td>\n",
       "      <td>1.091864</td>\n",
       "      <td>1.146217</td>\n",
       "      <td>0.617585</td>\n",
       "      <td>0.233336</td>\n",
       "      <td>0.069437</td>\n",
       "      <td>0.146096</td>\n",
       "      <td>2.567604</td>\n",
       "    </tr>\n",
       "    <tr>\n",
       "      <th>108</th>\n",
       "      <td>Albania</td>\n",
       "      <td>109</td>\n",
       "      <td>4.644</td>\n",
       "      <td>4.752464</td>\n",
       "      <td>4.535536</td>\n",
       "      <td>0.996193</td>\n",
       "      <td>0.803685</td>\n",
       "      <td>0.731160</td>\n",
       "      <td>0.381499</td>\n",
       "      <td>0.201313</td>\n",
       "      <td>0.039864</td>\n",
       "      <td>1.490442</td>\n",
       "    </tr>\n",
       "    <tr>\n",
       "      <th>140</th>\n",
       "      <td>Afghanistan</td>\n",
       "      <td>141</td>\n",
       "      <td>3.794</td>\n",
       "      <td>3.873661</td>\n",
       "      <td>3.714338</td>\n",
       "      <td>0.401477</td>\n",
       "      <td>0.581543</td>\n",
       "      <td>0.180747</td>\n",
       "      <td>0.106180</td>\n",
       "      <td>0.311871</td>\n",
       "      <td>0.061158</td>\n",
       "      <td>2.150801</td>\n",
       "    </tr>\n",
       "  </tbody>\n",
       "</table>\n",
       "<p>155 rows × 12 columns</p>\n",
       "</div>"
      ],
      "text/plain": [
       "         Country  Happiness.Rank  Happiness.Score  Whisker.high  Whisker.low  \\\n",
       "137     Zimbabwe             138            3.875      3.978700     3.771300   \n",
       "115       Zambia             116            4.514      4.644106     4.383894   \n",
       "145        Yemen             146            3.593      3.692750     3.493250   \n",
       "93       Vietnam              94            5.074      5.147281     5.000719   \n",
       "81     Venezuela              82            5.250      5.370032     5.129968   \n",
       "..           ...             ...              ...           ...          ...   \n",
       "23     Argentina              24            6.599      6.690085     6.507915   \n",
       "139       Angola             140            3.795      3.951642     3.638358   \n",
       "52       Algeria              53            5.872      5.978286     5.765714   \n",
       "108      Albania             109            4.644      4.752464     4.535536   \n",
       "140  Afghanistan             141            3.794      3.873661     3.714338   \n",
       "\n",
       "     Economy..GDP.per.Capita.    Family  Health..Life.Expectancy.   Freedom  \\\n",
       "137                  0.375847  1.083096                  0.196764  0.336384   \n",
       "115                  0.636407  1.003187                  0.257836  0.461603   \n",
       "145                  0.591683  0.935382                  0.310081  0.249464   \n",
       "93                   0.788548  1.277491                  0.652169  0.571056   \n",
       "81                   1.128431  1.431338                  0.617144  0.153997   \n",
       "..                        ...       ...                       ...       ...   \n",
       "23                   1.185295  1.440451                  0.695137  0.494519   \n",
       "139                  0.858428  1.104412                  0.049869  0.000000   \n",
       "52                   1.091864  1.146217                  0.617585  0.233336   \n",
       "108                  0.996193  0.803685                  0.731160  0.381499   \n",
       "140                  0.401477  0.581543                  0.180747  0.106180   \n",
       "\n",
       "     Generosity  Trust..Government.Corruption.  Dystopia.Residual  \n",
       "137    0.189143                       0.095375           1.597970  \n",
       "115    0.249580                       0.078214           1.826705  \n",
       "145    0.104125                       0.056767           1.345601  \n",
       "93     0.234968                       0.087633           1.462319  \n",
       "81     0.065020                       0.064491           1.789464  \n",
       "..          ...                            ...                ...  \n",
       "23     0.109457                       0.059740           2.614005  \n",
       "139    0.097926                       0.069720           1.614482  \n",
       "52     0.069437                       0.146096           2.567604  \n",
       "108    0.201313                       0.039864           1.490442  \n",
       "140    0.311871                       0.061158           2.150801  \n",
       "\n",
       "[155 rows x 12 columns]"
      ]
     },
     "execution_count": 11,
     "metadata": {},
     "output_type": "execute_result"
    }
   ],
   "source": [
    "df.apply(lambda x : x)"
   ]
  },
  {
   "cell_type": "code",
   "execution_count": 12,
   "metadata": {},
   "outputs": [
    {
     "data": {
      "text/plain": [
       "Country                            Norway\n",
       "Happiness.Rank                          1\n",
       "Happiness.Score                     7.537\n",
       "Whisker.high                      7.59444\n",
       "Whisker.low                       7.47956\n",
       "Economy..GDP.per.Capita.          1.61646\n",
       "Family                            1.53352\n",
       "Health..Life.Expectancy.         0.796667\n",
       "Freedom                          0.635423\n",
       "Generosity                       0.362012\n",
       "Trust..Government.Corruption.    0.315964\n",
       "Dystopia.Residual                     NaN\n",
       "dtype: object"
      ]
     },
     "execution_count": 12,
     "metadata": {},
     "output_type": "execute_result"
    }
   ],
   "source": [
    "df.apply(lambda x : x[0])"
   ]
  },
  {
   "cell_type": "code",
   "execution_count": 17,
   "metadata": {},
   "outputs": [
    {
     "data": {
      "text/plain": [
       "Country                           Iceland\n",
       "Happiness.Rank                          3\n",
       "Happiness.Score                     7.504\n",
       "Whisker.high                      7.62203\n",
       "Whisker.low                       7.38597\n",
       "Economy..GDP.per.Capita.          1.48063\n",
       "Family                            1.61057\n",
       "Health..Life.Expectancy.         0.833552\n",
       "Freedom                          0.627163\n",
       "Generosity                        0.47554\n",
       "Trust..Government.Corruption.    0.153527\n",
       "Dystopia.Residual                     NaN\n",
       "dtype: object"
      ]
     },
     "execution_count": 17,
     "metadata": {},
     "output_type": "execute_result"
    }
   ],
   "source": [
    "df.apply(lambda x : x[0], axis=0)"
   ]
  },
  {
   "cell_type": "code",
   "execution_count": 18,
   "metadata": {},
   "outputs": [
    {
     "data": {
      "text/plain": [
       "137       Zimbabwe\n",
       "115         Zambia\n",
       "145          Yemen\n",
       "93         Vietnam\n",
       "81       Venezuela\n",
       "          ...     \n",
       "23       Argentina\n",
       "139         Angola\n",
       "52         Algeria\n",
       "108        Albania\n",
       "140    Afghanistan\n",
       "Length: 155, dtype: object"
      ]
     },
     "execution_count": 18,
     "metadata": {},
     "output_type": "execute_result"
    }
   ],
   "source": [
    "df.apply(lambda x : x['Country'], axis=1)"
   ]
  },
  {
   "cell_type": "code",
   "execution_count": 19,
   "metadata": {},
   "outputs": [
    {
     "data": {
      "text/plain": [
       "137    3.875\n",
       "115    4.514\n",
       "145    3.593\n",
       "93     5.074\n",
       "81     5.250\n",
       "       ...  \n",
       "23     6.599\n",
       "139    3.795\n",
       "52     5.872\n",
       "108    4.644\n",
       "140    3.794\n",
       "Name: Happiness.Score, Length: 155, dtype: float64"
      ]
     },
     "execution_count": 19,
     "metadata": {},
     "output_type": "execute_result"
    }
   ],
   "source": [
    "def clip_score(score):\n",
    "    if score > 7 :\n",
    "       score=7\n",
    "    return score\n",
    "df['Happiness.Score'].apply(lambda x: clip_score(x))"
   ]
  },
  {
   "cell_type": "markdown",
   "metadata": {},
   "source": [
    "## Descriptive Stats using CSV data"
   ]
  },
  {
   "cell_type": "code",
   "execution_count": 20,
   "metadata": {},
   "outputs": [],
   "source": [
    "x = pd.read_csv('2017.csv')"
   ]
  },
  {
   "cell_type": "code",
   "execution_count": 21,
   "metadata": {},
   "outputs": [
    {
     "name": "stdout",
     "output_type": "stream",
     "text": [
      "RangeIndex(start=0, stop=155, step=1)\n"
     ]
    }
   ],
   "source": [
    "print (x.index)"
   ]
  },
  {
   "cell_type": "code",
   "execution_count": 22,
   "metadata": {},
   "outputs": [
    {
     "name": "stdout",
     "output_type": "stream",
     "text": [
      "Index(['Country', 'Happiness.Rank', 'Happiness.Score', 'Whisker.high',\n",
      "       'Whisker.low', 'Economy..GDP.per.Capita.', 'Family',\n",
      "       'Health..Life.Expectancy.', 'Freedom', 'Generosity',\n",
      "       'Trust..Government.Corruption.', 'Dystopia.Residual'],\n",
      "      dtype='object')\n"
     ]
    }
   ],
   "source": [
    "print (x.columns)"
   ]
  },
  {
   "cell_type": "code",
   "execution_count": 23,
   "metadata": {},
   "outputs": [
    {
     "name": "stdout",
     "output_type": "stream",
     "text": [
      "[['Norway' 1 7.537000179 ... 0.362012237 0.315963835 nan]\n",
      " ['Denmark' 2 7.521999836 ... 0.355280489 0.400770068 2.3137073519999998]\n",
      " ['Iceland' 3 7.504000187000001 ... 0.47554022100000004 0.153526559 nan]\n",
      " ...\n",
      " ['Tanzania' 153 3.348999977 ... 0.35425636200000005 0.066035107\n",
      "  0.621130466]\n",
      " ['Burundi' 154 2.904999971 ... 0.204435185 0.084147945\n",
      "  1.6830241680000002]\n",
      " ['Central African Republic' 155 2.6930000780000003 ... 0.280876487\n",
      "  0.056565076 2.066004753]]\n"
     ]
    }
   ],
   "source": [
    "print (x.values)"
   ]
  },
  {
   "cell_type": "code",
   "execution_count": 24,
   "metadata": {},
   "outputs": [
    {
     "name": "stdout",
     "output_type": "stream",
     "text": [
      "(155, 12)\n"
     ]
    }
   ],
   "source": [
    "print (x.shape)"
   ]
  },
  {
   "cell_type": "code",
   "execution_count": 25,
   "metadata": {},
   "outputs": [
    {
     "name": "stdout",
     "output_type": "stream",
     "text": [
      "Country                          155\n",
      "Happiness.Rank                   155\n",
      "Happiness.Score                  155\n",
      "Whisker.high                     155\n",
      "Whisker.low                      155\n",
      "Economy..GDP.per.Capita.         155\n",
      "Family                           155\n",
      "Health..Life.Expectancy.         155\n",
      "Freedom                          155\n",
      "Generosity                       155\n",
      "Trust..Government.Corruption.    155\n",
      "Dystopia.Residual                153\n",
      "dtype: int64\n"
     ]
    }
   ],
   "source": [
    "print (x.count())"
   ]
  },
  {
   "cell_type": "code",
   "execution_count": 26,
   "metadata": {},
   "outputs": [
    {
     "name": "stdout",
     "output_type": "stream",
     "text": [
      "       Happiness.Rank  Happiness.Score  Whisker.high  Whisker.low  \\\n",
      "count      155.000000       155.000000    155.000000   155.000000   \n",
      "mean        78.000000         5.354019      5.452326     5.255713   \n",
      "std         44.888751         1.131230      1.118542     1.145030   \n",
      "min          1.000000         2.693000      2.864884     2.521116   \n",
      "25%         39.500000         4.505500      4.608172     4.374955   \n",
      "50%         78.000000         5.279000      5.370032     5.193152   \n",
      "75%        116.500000         6.101500      6.194600     6.006527   \n",
      "max        155.000000         7.537000      7.622030     7.479556   \n",
      "\n",
      "       Economy..GDP.per.Capita.      Family  Health..Life.Expectancy.  \\\n",
      "count                155.000000  155.000000                155.000000   \n",
      "mean                   0.984718    1.188898                  0.551341   \n",
      "std                    0.420793    0.287263                  0.237073   \n",
      "min                    0.000000    0.000000                  0.000000   \n",
      "25%                    0.663371    1.042635                  0.369866   \n",
      "50%                    1.064578    1.253918                  0.606042   \n",
      "75%                    1.318027    1.414316                  0.723008   \n",
      "max                    1.870766    1.610574                  0.949492   \n",
      "\n",
      "          Freedom  Generosity  Trust..Government.Corruption.  \\\n",
      "count  155.000000  155.000000                     155.000000   \n",
      "mean     0.408786    0.246883                       0.123120   \n",
      "std      0.149997    0.134780                       0.101661   \n",
      "min      0.000000    0.000000                       0.000000   \n",
      "25%      0.303677    0.154106                       0.057271   \n",
      "50%      0.437454    0.231538                       0.089848   \n",
      "75%      0.516561    0.323762                       0.153296   \n",
      "max      0.658249    0.838075                       0.464308   \n",
      "\n",
      "       Dystopia.Residual  \n",
      "count         153.000000  \n",
      "mean            1.844360  \n",
      "std             0.500616  \n",
      "min             0.377914  \n",
      "25%             1.584613  \n",
      "50%             1.826705  \n",
      "75%             2.126607  \n",
      "max             3.117485  \n"
     ]
    }
   ],
   "source": [
    "print (x.describe())"
   ]
  },
  {
   "cell_type": "code",
   "execution_count": 27,
   "metadata": {},
   "outputs": [
    {
     "name": "stdout",
     "output_type": "stream",
     "text": [
      "       Country  Happiness.Rank  Happiness.Score  Whisker.high  Whisker.low  \\\n",
      "0       Norway               1            7.537      7.594445     7.479556   \n",
      "1      Denmark               2            7.522      7.581728     7.462272   \n",
      "2      Iceland               3            7.504      7.622030     7.385970   \n",
      "3  Switzerland               4            7.494      7.561772     7.426227   \n",
      "4      Finland               5            7.469      7.527542     7.410458   \n",
      "\n",
      "   Economy..GDP.per.Capita.    Family  Health..Life.Expectancy.   Freedom  \\\n",
      "0                  1.616463  1.533524                  0.796667  0.635423   \n",
      "1                  1.482383  1.551122                  0.792566  0.626007   \n",
      "2                  1.480633  1.610574                  0.833552  0.627163   \n",
      "3                  1.564980  1.516912                  0.858131  0.620071   \n",
      "4                  1.443572  1.540247                  0.809158  0.617951   \n",
      "\n",
      "   Generosity  Trust..Government.Corruption.  Dystopia.Residual  \n",
      "0    0.362012                       0.315964                NaN  \n",
      "1    0.355280                       0.400770           2.313707  \n",
      "2    0.475540                       0.153527                NaN  \n",
      "3    0.290549                       0.367007           2.276716  \n",
      "4    0.245483                       0.382612           2.430182  \n"
     ]
    }
   ],
   "source": [
    "print (x.head())"
   ]
  },
  {
   "cell_type": "code",
   "execution_count": 28,
   "metadata": {},
   "outputs": [
    {
     "name": "stdout",
     "output_type": "stream",
     "text": [
      "                      Country  Happiness.Rank  Happiness.Score  Whisker.high  \\\n",
      "150                    Rwanda             151            3.471      3.543030   \n",
      "151                     Syria             152            3.462      3.663669   \n",
      "152                  Tanzania             153            3.349      3.461430   \n",
      "153                   Burundi             154            2.905      3.074690   \n",
      "154  Central African Republic             155            2.693      2.864884   \n",
      "\n",
      "     Whisker.low  Economy..GDP.per.Capita.    Family  \\\n",
      "150     3.398970                  0.368746  0.945707   \n",
      "151     3.260331                  0.777153  0.396103   \n",
      "152     3.236570                  0.511136  1.041990   \n",
      "153     2.735310                  0.091623  0.629794   \n",
      "154     2.521116                  0.000000  0.000000   \n",
      "\n",
      "     Health..Life.Expectancy.   Freedom  Generosity  \\\n",
      "150                  0.326425  0.581844    0.252756   \n",
      "151                  0.500533  0.081539    0.493664   \n",
      "152                  0.364509  0.390018    0.354256   \n",
      "153                  0.151611  0.059901    0.204435   \n",
      "154                  0.018773  0.270842    0.280876   \n",
      "\n",
      "     Trust..Government.Corruption.  Dystopia.Residual  \n",
      "150                       0.455220           0.540061  \n",
      "151                       0.151347           1.061574  \n",
      "152                       0.066035           0.621130  \n",
      "153                       0.084148           1.683024  \n",
      "154                       0.056565           2.066005  \n"
     ]
    }
   ],
   "source": [
    "print (x.tail())"
   ]
  },
  {
   "cell_type": "code",
   "execution_count": 29,
   "metadata": {},
   "outputs": [
    {
     "name": "stdout",
     "output_type": "stream",
     "text": [
      "                                               Country  Happiness.Rank  \\\n",
      "0                                               Norway               1   \n",
      "1                                        NorwayDenmark               3   \n",
      "2                                 NorwayDenmarkIceland               6   \n",
      "3                      NorwayDenmarkIcelandSwitzerland              10   \n",
      "4               NorwayDenmarkIcelandSwitzerlandFinland              15   \n",
      "..                                                 ...             ...   \n",
      "150  NorwayDenmarkIcelandSwitzerlandFinlandNetherla...           11476   \n",
      "151  NorwayDenmarkIcelandSwitzerlandFinlandNetherla...           11628   \n",
      "152  NorwayDenmarkIcelandSwitzerlandFinlandNetherla...           11781   \n",
      "153  NorwayDenmarkIcelandSwitzerlandFinlandNetherla...           11935   \n",
      "154  NorwayDenmarkIcelandSwitzerlandFinlandNetherla...           12090   \n",
      "\n",
      "     Happiness.Score  Whisker.high  Whisker.low  Economy..GDP.per.Capita.  \\\n",
      "0              7.537      7.594445     7.479556                  1.616463   \n",
      "1             15.059     15.176173    14.941827                  3.098846   \n",
      "2             22.563     22.798203    22.327797                  4.579479   \n",
      "3             30.057     30.359976    29.754025                  6.144459   \n",
      "4             37.526     37.887518    37.164482                  7.588031   \n",
      "..               ...           ...          ...                       ...   \n",
      "150          817.464    832.045813   802.882187                151.251410   \n",
      "151          820.926    835.709482   806.142518                152.028563   \n",
      "152          824.275    839.170912   809.379089                152.539699   \n",
      "153          827.180    842.245602   812.114398                152.631321   \n",
      "154          829.873    845.110486   814.635514                152.631321   \n",
      "\n",
      "         Family  Health..Life.Expectancy.    Freedom  Generosity  \\\n",
      "0      1.533524                  0.796667   0.635423    0.362012   \n",
      "1      3.084645                  1.589232   1.261429    0.717293   \n",
      "2      4.695219                  2.422784   1.888592    1.192833   \n",
      "3      6.212131                  3.280915   2.508663    1.483382   \n",
      "4      7.752378                  4.090073   3.126613    1.728865   \n",
      "..          ...                       ...        ...         ...   \n",
      "150  182.211265                 84.422395  62.559526   36.933706   \n",
      "151  182.607368                 84.922929  62.641065   37.427370   \n",
      "152  183.649358                 85.287438  63.031083   37.781626   \n",
      "153  184.279151                 85.439049  63.090984   37.986062   \n",
      "154  184.279151                 85.457821  63.361826   38.266938   \n",
      "\n",
      "     Trust..Government.Corruption.  Dystopia.Residual  \n",
      "0                         0.315964                NaN  \n",
      "1                         0.716734           2.313707  \n",
      "2                         0.870260                NaN  \n",
      "3                         1.237268           4.590424  \n",
      "4                         1.619879           7.020605  \n",
      "..                             ...                ...  \n",
      "150                      18.725539         276.755385  \n",
      "151                      18.876886         277.816959  \n",
      "152                      18.942921         278.438089  \n",
      "153                      19.027069         280.121113  \n",
      "154                      19.083634         282.187118  \n",
      "\n",
      "[155 rows x 12 columns]\n"
     ]
    }
   ],
   "source": [
    "print (x.cumsum())"
   ]
  },
  {
   "cell_type": "markdown",
   "metadata": {},
   "source": [
    "# Introd to DataFrame"
   ]
  },
  {
   "cell_type": "code",
   "execution_count": 30,
   "metadata": {},
   "outputs": [
    {
     "name": "stdout",
     "output_type": "stream",
     "text": [
      "     Name  Age\n",
      "0    Alex   10\n",
      "1     Bob   12\n",
      "2  Clarke   13\n"
     ]
    }
   ],
   "source": [
    "data = [['Alex',10],['Bob',12],['Clarke',13]]\n",
    "df = pd.DataFrame(data,columns=['Name','Age'])\n",
    "print (df)"
   ]
  },
  {
   "cell_type": "code",
   "execution_count": 31,
   "metadata": {},
   "outputs": [
    {
     "name": "stdout",
     "output_type": "stream",
     "text": [
      "     Name   Age\n",
      "0    Alex  10.0\n",
      "1     Bob  12.0\n",
      "2  Clarke  13.0\n"
     ]
    }
   ],
   "source": [
    "import pandas as pd\n",
    "data = [['Alex',10],['Bob',12],['Clarke',13]]\n",
    "df = pd.DataFrame(data,columns=['Name','Age'],dtype=float)\n",
    "print (df)\n",
    "#Create a DataFrame from List "
   ]
  },
  {
   "cell_type": "code",
   "execution_count": 32,
   "metadata": {},
   "outputs": [
    {
     "name": "stdout",
     "output_type": "stream",
     "text": [
      "    Name  Age\n",
      "0    Tom   28\n",
      "1   Jack   34\n",
      "2  Steve   29\n",
      "3  Ricky   42\n"
     ]
    }
   ],
   "source": [
    "data = {'Name':['Tom', 'Jack', 'Steve', 'Ricky'],'Age':[28,34,29,42]}\n",
    "df = pd.DataFrame(data)\n",
    "print (df)\n",
    "#Create a DataFrame from Dict of ndarrays / Lists"
   ]
  },
  {
   "cell_type": "code",
   "execution_count": 33,
   "metadata": {},
   "outputs": [
    {
     "name": "stdout",
     "output_type": "stream",
     "text": [
      "        Name  Age\n",
      "rank1    Tom   28\n",
      "rank2   Jack   34\n",
      "rank3  Steve   29\n",
      "rank4  Ricky   42\n"
     ]
    }
   ],
   "source": [
    "data = {'Name':['Tom', 'Jack', 'Steve', 'Ricky'],'Age':[28,34,29,42]}\n",
    "df = pd.DataFrame(data, index=['rank1','rank2','rank3','rank4'])\n",
    "print (df)"
   ]
  },
  {
   "cell_type": "code",
   "execution_count": 34,
   "metadata": {},
   "outputs": [
    {
     "name": "stdout",
     "output_type": "stream",
     "text": [
      "   a   b     c\n",
      "0  1   2   NaN\n",
      "1  5  10  20.0\n"
     ]
    }
   ],
   "source": [
    "data = [{'a': 1, 'b': 2},{'a': 5, 'b': 10, 'c': 20}]\n",
    "df = pd.DataFrame(data)\n",
    "print (df)"
   ]
  },
  {
   "cell_type": "code",
   "execution_count": 35,
   "metadata": {},
   "outputs": [
    {
     "name": "stdout",
     "output_type": "stream",
     "text": [
      "        a   b     c\n",
      "first   1   2   NaN\n",
      "second  5  10  20.0\n"
     ]
    }
   ],
   "source": [
    "data = [{'a': 1, 'b': 2},{'a': 5, 'b': 10, 'c': 20}]\n",
    "df = pd.DataFrame(data, index=['first', 'second'])\n",
    "print (df)"
   ]
  },
  {
   "cell_type": "code",
   "execution_count": 36,
   "metadata": {},
   "outputs": [
    {
     "name": "stdout",
     "output_type": "stream",
     "text": [
      "   one  two\n",
      "a  1.0    1\n",
      "b  2.0    2\n",
      "c  3.0    3\n",
      "d  NaN    4\n"
     ]
    }
   ],
   "source": [
    "import pandas as pd\n",
    "\n",
    "d = {'one' : pd.Series([1, 2, 3], index=['a', 'b', 'c']),\n",
    "      'two' : pd.Series([1, 2, 3, 4], index=['a', 'b', 'c', 'd'])}\n",
    "\n",
    "df = pd.DataFrame(d)\n",
    "print (df)\n",
    "\n",
    "#Create a DataFrame from Dict of Series"
   ]
  },
  {
   "cell_type": "code",
   "execution_count": 37,
   "metadata": {},
   "outputs": [
    {
     "name": "stdout",
     "output_type": "stream",
     "text": [
      "a    1.0\n",
      "b    2.0\n",
      "c    3.0\n",
      "d    NaN\n",
      "Name: one, dtype: float64\n"
     ]
    }
   ],
   "source": [
    "d = {'one' : pd.Series([1, 2, 3], index=['a', 'b', 'c']),\n",
    "      'two' : pd.Series([1, 2, 3, 4], index=['a', 'b', 'c', 'd'])}\n",
    "\n",
    "df = pd.DataFrame(d)\n",
    "print (df ['one'])\n",
    "\n",
    "#Column Selection"
   ]
  },
  {
   "cell_type": "code",
   "execution_count": 38,
   "metadata": {},
   "outputs": [
    {
     "name": "stdout",
     "output_type": "stream",
     "text": [
      "Adding a new column by passing as Series:\n",
      "   one  two  three\n",
      "a  1.0    1   10.0\n",
      "b  2.0    2   20.0\n",
      "c  3.0    3   30.0\n",
      "d  NaN    4    NaN\n",
      "Adding a new column using the existing columns in DataFrame:\n",
      "   one  two  three  four\n",
      "a  1.0    1   10.0  11.0\n",
      "b  2.0    2   20.0  22.0\n",
      "c  3.0    3   30.0  33.0\n",
      "d  NaN    4    NaN   NaN\n"
     ]
    }
   ],
   "source": [
    "d = {'one' : pd.Series([1, 2, 3], index=['a', 'b', 'c']),\n",
    "      'two' : pd.Series([1, 2, 3, 4], index=['a', 'b', 'c', 'd'])}\n",
    "df = pd.DataFrame(d)\n",
    "\n",
    "# Adding a new column to an existing DataFrame object with column label by passing new series\n",
    "print (\"Adding a new column by passing as Series:\")\n",
    "\n",
    "df['three']=pd.Series([10,20,30],index=['a','b','c'])\n",
    "print (df)\n",
    "\n",
    "print (\"Adding a new column using the existing columns in DataFrame:\")\n",
    "\n",
    "df['four']=df['one']+df['three']\n",
    "print (df)\n",
    "# column addition"
   ]
  },
  {
   "cell_type": "code",
   "execution_count": 39,
   "metadata": {},
   "outputs": [
    {
     "name": "stdout",
     "output_type": "stream",
     "text": [
      "   one  two  three\n",
      "a  1.0    1   10.0\n",
      "b  2.0    2   20.0\n",
      "c  3.0    3   30.0\n",
      "d  NaN    4    NaN\n",
      "Deleting the first column using DEL function:\n",
      "   two  three\n",
      "a    1   10.0\n",
      "b    2   20.0\n",
      "c    3   30.0\n",
      "d    4    NaN\n",
      "Deleting another column using POP function:\n",
      "   three\n",
      "a   10.0\n",
      "b   20.0\n",
      "c   30.0\n",
      "d    NaN\n"
     ]
    }
   ],
   "source": [
    "# using del function\n",
    "d = {'one' : pd.Series([1, 2, 3], index=['a', 'b', 'c']), \n",
    "     'two' : pd.Series([1, 2, 3, 4], index=['a', 'b', 'c', 'd']), \n",
    "     'three' : pd.Series([10,20,30], index=['a','b','c'])}\n",
    "df = pd.DataFrame(d)\n",
    "print (df)\n",
    "# using del function\n",
    "print (\"Deleting the first column using DEL function:\")\n",
    "del df['one']\n",
    "print (df)\n",
    "# using pop function\n",
    "print (\"Deleting another column using POP function:\")\n",
    "df.pop('two')\n",
    "print (df)"
   ]
  },
  {
   "cell_type": "code",
   "execution_count": 40,
   "metadata": {},
   "outputs": [
    {
     "name": "stdout",
     "output_type": "stream",
     "text": [
      "one    2.0\n",
      "two    2.0\n",
      "Name: b, dtype: float64\n"
     ]
    }
   ],
   "source": [
    "d = {'one' : pd.Series([1, 2, 3], index=['a', 'b', 'c']), \n",
    "     'two' : pd.Series([1, 2, 3, 4], index=['a', 'b', 'c', 'd'])}\n",
    "\n",
    "df = pd.DataFrame(d)\n",
    "df\n",
    "print (df.loc['b'])\n",
    "\n",
    "#Selection by Label Rows can be selected by passing row label\n",
    "# to a loc function. "
   ]
  },
  {
   "cell_type": "code",
   "execution_count": 41,
   "metadata": {},
   "outputs": [
    {
     "name": "stdout",
     "output_type": "stream",
     "text": [
      "one    3.0\n",
      "two    3.0\n",
      "Name: c, dtype: float64\n"
     ]
    }
   ],
   "source": [
    "d = {'one' : pd.Series([1, 2, 3], index=['a', 'b', 'c']),\n",
    "     'two' : pd.Series([1, 2, 3, 4], index=['a', 'b', 'c', 'd'])}\n",
    "\n",
    "df = pd.DataFrame(d)\n",
    "print (df.iloc[2])\n",
    "\n",
    "#Rows can be selected by passing integer location to an iloc function."
   ]
  },
  {
   "cell_type": "code",
   "execution_count": 42,
   "metadata": {},
   "outputs": [
    {
     "name": "stdout",
     "output_type": "stream",
     "text": [
      "   one  two\n",
      "c  3.0    3\n",
      "d  NaN    4\n"
     ]
    }
   ],
   "source": [
    "#Multiple rows can be selected using ‘ : ’ operator.\n",
    "\n",
    "d = {'one' : pd.Series([1, 2, 3], index=['a', 'b', 'c']), \n",
    "    'two' : pd.Series([1, 2, 3, 4], index=['a', 'b', 'c', 'd'])}\n",
    "\n",
    "df = pd.DataFrame(d)\n",
    "print (df[2:4])"
   ]
  },
  {
   "cell_type": "code",
   "execution_count": 47,
   "metadata": {},
   "outputs": [
    {
     "name": "stdout",
     "output_type": "stream",
     "text": [
      "   a  b\n",
      "0  1  2\n",
      "1  3  4\n",
      "0  5  6\n",
      "1  7  8\n",
      "   a  b\n",
      "1  3  4\n",
      "1  7  8\n"
     ]
    }
   ],
   "source": [
    "#Let us drop a label and will see how many rows will get dropped.\n",
    "df = pd.DataFrame([[1, 2], [3, 4]], columns = ['a','b'])\n",
    "df2 = pd.DataFrame([[5, 6], [7, 8]], columns = ['a','b'])\n",
    "df = df.append(df2)\n",
    "print(df)\n",
    "# Drop rows with label 0\n",
    "df = df.drop(0)\n",
    "print (df)"
   ]
  },
  {
   "cell_type": "markdown",
   "metadata": {},
   "source": [
    "## Iterating over dataframe"
   ]
  },
  {
   "cell_type": "code",
   "execution_count": 48,
   "metadata": {},
   "outputs": [
    {
     "name": "stdout",
     "output_type": "stream",
     "text": [
      "      Name  Age  Rating\n",
      "0      Tom   25    4.23\n",
      "1    James   26    3.24\n",
      "2    Ricky   25    3.98\n",
      "3      Vin   23    2.56\n",
      "4    Steve   30    3.20\n",
      "5    Smith   29    4.60\n",
      "6     Jack   23    3.80\n",
      "7      Lee   34    3.78\n",
      "8    David   40    2.98\n",
      "9   Gasper   30    4.80\n",
      "10  Betina   51    4.10\n",
      "11  Andres   46    3.65\n"
     ]
    }
   ],
   "source": [
    "import pandas as pd\n",
    "\n",
    "#Create a Dictionary of series\n",
    "d = {\n",
    "    'Name':pd.Series(['Tom','James','Ricky','Vin','Steve','Smith',\n",
    "                       'Jack','Lee','David','Gasper','Betina','Andres']),\n",
    "    'Age':pd.Series([25,26,25,23,30,29,23,34,40,30,51,46]),\n",
    "    'Rating':pd.Series([4.23,3.24,3.98,2.56,3.20,4.6,3.8,3.78,2.98,4.80,4.10, 3.65])\n",
    "     }\n",
    "#Create a DataFrame\n",
    "df = pd.DataFrame(d)\n",
    "print (df)"
   ]
  },
  {
   "cell_type": "code",
   "execution_count": 49,
   "metadata": {},
   "outputs": [
    {
     "name": "stdout",
     "output_type": "stream",
     "text": [
      "Name 0        Tom\n",
      "1      James\n",
      "2      Ricky\n",
      "3        Vin\n",
      "4      Steve\n",
      "5      Smith\n",
      "6       Jack\n",
      "7        Lee\n",
      "8      David\n",
      "9     Gasper\n",
      "10    Betina\n",
      "11    Andres\n",
      "Name: Name, dtype: object\n",
      "Age 0     25\n",
      "1     26\n",
      "2     25\n",
      "3     23\n",
      "4     30\n",
      "5     29\n",
      "6     23\n",
      "7     34\n",
      "8     40\n",
      "9     30\n",
      "10    51\n",
      "11    46\n",
      "Name: Age, dtype: int64\n",
      "Rating 0     4.23\n",
      "1     3.24\n",
      "2     3.98\n",
      "3     2.56\n",
      "4     3.20\n",
      "5     4.60\n",
      "6     3.80\n",
      "7     3.78\n",
      "8     2.98\n",
      "9     4.80\n",
      "10    4.10\n",
      "11    3.65\n",
      "Name: Rating, dtype: float64\n"
     ]
    }
   ],
   "source": [
    "for key,value in df.iteritems():\n",
    "   print (key,value)"
   ]
  },
  {
   "cell_type": "code",
   "execution_count": 50,
   "metadata": {},
   "outputs": [
    {
     "name": "stdout",
     "output_type": "stream",
     "text": [
      "(0, Name       Tom\n",
      "Age         25\n",
      "Rating    4.23\n",
      "Name: 0, dtype: object)\n",
      "(1, Name      James\n",
      "Age          26\n",
      "Rating     3.24\n",
      "Name: 1, dtype: object)\n",
      "(2, Name      Ricky\n",
      "Age          25\n",
      "Rating     3.98\n",
      "Name: 2, dtype: object)\n",
      "(3, Name       Vin\n",
      "Age         23\n",
      "Rating    2.56\n",
      "Name: 3, dtype: object)\n",
      "(4, Name      Steve\n",
      "Age          30\n",
      "Rating      3.2\n",
      "Name: 4, dtype: object)\n",
      "(5, Name      Smith\n",
      "Age          29\n",
      "Rating      4.6\n",
      "Name: 5, dtype: object)\n",
      "(6, Name      Jack\n",
      "Age         23\n",
      "Rating     3.8\n",
      "Name: 6, dtype: object)\n",
      "(7, Name       Lee\n",
      "Age         34\n",
      "Rating    3.78\n",
      "Name: 7, dtype: object)\n",
      "(8, Name      David\n",
      "Age          40\n",
      "Rating     2.98\n",
      "Name: 8, dtype: object)\n",
      "(9, Name      Gasper\n",
      "Age           30\n",
      "Rating       4.8\n",
      "Name: 9, dtype: object)\n",
      "(10, Name      Betina\n",
      "Age           51\n",
      "Rating       4.1\n",
      "Name: 10, dtype: object)\n",
      "(11, Name      Andres\n",
      "Age           46\n",
      "Rating      3.65\n",
      "Name: 11, dtype: object)\n"
     ]
    }
   ],
   "source": [
    "for row in df.iterrows():\n",
    "   print (row)"
   ]
  },
  {
   "cell_type": "code",
   "execution_count": 51,
   "metadata": {},
   "outputs": [
    {
     "name": "stdout",
     "output_type": "stream",
     "text": [
      "Pandas(Index=0, Name='Tom', Age=25, Rating=4.23)\n",
      "Pandas(Index=1, Name='James', Age=26, Rating=3.24)\n",
      "Pandas(Index=2, Name='Ricky', Age=25, Rating=3.98)\n",
      "Pandas(Index=3, Name='Vin', Age=23, Rating=2.56)\n",
      "Pandas(Index=4, Name='Steve', Age=30, Rating=3.2)\n",
      "Pandas(Index=5, Name='Smith', Age=29, Rating=4.6)\n",
      "Pandas(Index=6, Name='Jack', Age=23, Rating=3.8)\n",
      "Pandas(Index=7, Name='Lee', Age=34, Rating=3.78)\n",
      "Pandas(Index=8, Name='David', Age=40, Rating=2.98)\n",
      "Pandas(Index=9, Name='Gasper', Age=30, Rating=4.8)\n",
      "Pandas(Index=10, Name='Betina', Age=51, Rating=4.1)\n",
      "Pandas(Index=11, Name='Andres', Age=46, Rating=3.65)\n"
     ]
    }
   ],
   "source": [
    "for row in df.itertuples():\n",
    "    print (row)"
   ]
  },
  {
   "cell_type": "markdown",
   "metadata": {},
   "source": [
    "## Working on Dataframes"
   ]
  },
  {
   "cell_type": "code",
   "execution_count": 52,
   "metadata": {},
   "outputs": [
    {
     "name": "stdout",
     "output_type": "stream",
     "text": [
      "  first_name last_name   age  sex  preTestScore  postTestScore\n",
      "0      Jason    Miller  42.0    m           4.0           25.0\n",
      "1        NaN       NaN   NaN  NaN           NaN            NaN\n",
      "2       Tina       Ali  36.0    f           NaN            NaN\n",
      "3       Jake    Milner  24.0    m           2.0           62.0\n",
      "4        Amy     Cooze  73.0    f           3.0           70.0\n"
     ]
    }
   ],
   "source": [
    "import pandas as pd\n",
    "import numpy as np\n",
    "raw_data = {\n",
    "        'first_name': ['Jason', np.nan, 'Tina', 'Jake', 'Amy'],\n",
    "        'last_name': ['Miller', np.nan, 'Ali', 'Milner', 'Cooze'],\n",
    "        'age': [42, np.nan, 36, 24, 73],\n",
    "        'sex': ['m', np.nan, 'f', 'm', 'f'],\n",
    "        'preTestScore': [4, np.nan, np.nan, 2, 3],\n",
    "        'postTestScore': [25, np.nan, np.nan, 62, 70]\n",
    "        }\n",
    "\n",
    "df = pd.DataFrame(raw_data, columns = ['first_name', 'last_name', \n",
    "                                       'age', 'sex', 'preTestScore', \n",
    "                                       'postTestScore'])\n",
    "print (df)"
   ]
  },
  {
   "cell_type": "code",
   "execution_count": 53,
   "metadata": {},
   "outputs": [
    {
     "name": "stdout",
     "output_type": "stream",
     "text": [
      "----Drop missing observations------\n",
      "  first_name last_name   age sex  preTestScore  postTestScore\n",
      "0      Jason    Miller  42.0   m           4.0           25.0\n",
      "3       Jake    Milner  24.0   m           2.0           62.0\n",
      "4        Amy     Cooze  73.0   f           3.0           70.0\n"
     ]
    }
   ],
   "source": [
    "print('----Drop missing observations------')\n",
    "df_no_missing = df.dropna()\n",
    "print (df_no_missing)"
   ]
  },
  {
   "cell_type": "code",
   "execution_count": 54,
   "metadata": {},
   "outputs": [
    {
     "name": "stdout",
     "output_type": "stream",
     "text": [
      "----Drop rows where all cells in that row is NA------\n",
      "  first_name last_name   age sex  preTestScore  postTestScore\n",
      "0      Jason    Miller  42.0   m           4.0           25.0\n",
      "2       Tina       Ali  36.0   f           NaN            NaN\n",
      "3       Jake    Milner  24.0   m           2.0           62.0\n",
      "4        Amy     Cooze  73.0   f           3.0           70.0\n"
     ]
    }
   ],
   "source": [
    "print('----Drop rows where all cells in that row is NA------')\n",
    "df_cleaned = df.dropna(how='all')\n",
    "print(df_cleaned)"
   ]
  },
  {
   "cell_type": "code",
   "execution_count": 58,
   "metadata": {},
   "outputs": [
    {
     "name": "stdout",
     "output_type": "stream",
     "text": [
      "----Select some raws but ignore the missing data points------\n",
      "  first_name last_name   age sex  preTestScore  postTestScore\n",
      "0      Jason    Miller  42.0   m           4.0           25.0\n",
      "2       Tina       Ali  36.0   f           NaN            NaN\n",
      "3       Jake    Milner  24.0   m           2.0           62.0\n",
      "4        Amy     Cooze  73.0   f           3.0           70.0\n"
     ]
    }
   ],
   "source": [
    "print('----Select some raws but ignore the missing data points------')\n",
    "print (df[df['age'].notnull() & df['sex'].notnull()])"
   ]
  },
  {
   "cell_type": "code",
   "execution_count": 60,
   "metadata": {},
   "outputs": [
    {
     "name": "stdout",
     "output_type": "stream",
     "text": [
      "----Drop rows that contain less than five observations------\n",
      "  first_name last_name   age sex  preTestScore  postTestScore\n",
      "0      Jason    Miller  42.0   m           4.0           25.0\n",
      "2       Tina       Ali  36.0   f           NaN            NaN\n",
      "3       Jake    Milner  24.0   m           2.0           62.0\n",
      "4        Amy     Cooze  73.0   f           3.0           70.0\n"
     ]
    }
   ],
   "source": [
    "print('----Drop rows that contain less than five observations------')\n",
    "print(df.dropna(thresh=4))"
   ]
  },
  {
   "cell_type": "code",
   "execution_count": 55,
   "metadata": {},
   "outputs": [
    {
     "name": "stdout",
     "output_type": "stream",
     "text": [
      "----Fill in missing data with zeros------\n",
      "  first_name last_name   age sex  preTestScore  postTestScore\n",
      "0      Jason    Miller  42.0   m           4.0           25.0\n",
      "1          0         0   0.0   0           0.0            0.0\n",
      "2       Tina       Ali  36.0   f           0.0            0.0\n",
      "3       Jake    Milner  24.0   m           2.0           62.0\n",
      "4        Amy     Cooze  73.0   f           3.0           70.0\n"
     ]
    }
   ],
   "source": [
    "print('----Fill in missing data with zeros------')\n",
    "print(df.fillna(0))"
   ]
  },
  {
   "cell_type": "code",
   "execution_count": 56,
   "metadata": {},
   "outputs": [
    {
     "name": "stdout",
     "output_type": "stream",
     "text": [
      "--Fill in missing in preTestScore with the mean value of preTestScore--\n",
      "  first_name last_name   age sex  preTestScore  postTestScore\n",
      "0      Jason    Miller  42.0   m           4.0           25.0\n",
      "2       Tina       Ali  36.0   f           3.0            NaN\n",
      "3       Jake    Milner  24.0   m           2.0           62.0\n",
      "4        Amy     Cooze  73.0   f           3.0           70.0\n"
     ]
    },
    {
     "name": "stderr",
     "output_type": "stream",
     "text": [
      "C:\\ProgramData\\Anaconda3\\lib\\site-packages\\pandas\\core\\generic.py:6245: SettingWithCopyWarning: \n",
      "A value is trying to be set on a copy of a slice from a DataFrame\n",
      "\n",
      "See the caveats in the documentation: https://pandas.pydata.org/pandas-docs/stable/user_guide/indexing.html#returning-a-view-versus-a-copy\n",
      "  self._update_inplace(new_data)\n"
     ]
    }
   ],
   "source": [
    "print('--Fill in missing in preTestScore with the mean value of preTestScore--')\n",
    "#inplace=True means that the changes are saved to the df right away\n",
    "df_cleaned[\"preTestScore\"].fillna(df_cleaned[\"preTestScore\"].mean(),inplace=True)\n",
    "print (df_cleaned)"
   ]
  },
  {
   "cell_type": "code",
   "execution_count": 57,
   "metadata": {},
   "outputs": [
    {
     "name": "stdout",
     "output_type": "stream",
     "text": [
      "--Fill in missing in preTestScore with the mean value of preTestScore--\n",
      "  first_name last_name   age sex  preTestScore  postTestScore\n",
      "0      Jason    Miller  42.0   m           4.0           25.0\n",
      "2       Tina       Ali  36.0   f           3.0           62.0\n",
      "3       Jake    Milner  24.0   m           2.0           62.0\n",
      "4        Amy     Cooze  73.0   f           3.0           70.0\n"
     ]
    },
    {
     "name": "stderr",
     "output_type": "stream",
     "text": [
      "C:\\ProgramData\\Anaconda3\\lib\\site-packages\\pandas\\core\\generic.py:6245: SettingWithCopyWarning: \n",
      "A value is trying to be set on a copy of a slice from a DataFrame\n",
      "\n",
      "See the caveats in the documentation: https://pandas.pydata.org/pandas-docs/stable/user_guide/indexing.html#returning-a-view-versus-a-copy\n",
      "  self._update_inplace(new_data)\n"
     ]
    }
   ],
   "source": [
    "print('--Fill in missing in preTestScore with the mean value of preTestScore--')\n",
    "#inplace=True means that the changes are saved to the df right away\n",
    "df_cleaned[\"postTestScore\"].fillna(df_cleaned[\"postTestScore\"].median(),inplace=True)\n",
    "print (df_cleaned)"
   ]
  },
  {
   "cell_type": "code",
   "execution_count": 61,
   "metadata": {},
   "outputs": [
    {
     "name": "stdout",
     "output_type": "stream",
     "text": [
      "Age       31.833333\n",
      "Rating     3.743333\n",
      "dtype: float64\n"
     ]
    }
   ],
   "source": [
    "import pandas as pd\n",
    "import numpy as np\n",
    "\n",
    "#Create a Dictionary of series\n",
    "d = {'Name':pd.Series(['Tom','James','Ricky','Vin','Steve','Smith','Jack','Lee','David','Gasper','Betina','Andres']),\n",
    "   'Age':pd.Series([25,26,25,23,30,29,23,34,40,30,51,46]),\n",
    "   'Rating':pd.Series([4.23,3.24,3.98,2.56,3.20,4.6,3.8,3.78,2.98,4.80,4.10,3.65])}\n",
    "\n",
    "#Create a DataFrame\n",
    "df = pd.DataFrame(d)\n",
    "print (df.mean())\n",
    "#Returns the average value"
   ]
  },
  {
   "cell_type": "code",
   "execution_count": 62,
   "metadata": {},
   "outputs": [
    {
     "name": "stdout",
     "output_type": "stream",
     "text": [
      "Age       9.232682\n",
      "Rating    0.661628\n",
      "dtype: float64\n"
     ]
    }
   ],
   "source": [
    "print (df.std())"
   ]
  },
  {
   "cell_type": "code",
   "execution_count": 63,
   "metadata": {},
   "outputs": [
    {
     "data": {
      "text/plain": [
       "Name       object\n",
       "Age         int64\n",
       "Rating    float64\n",
       "dtype: object"
      ]
     },
     "execution_count": 63,
     "metadata": {},
     "output_type": "execute_result"
    }
   ],
   "source": [
    "df.dtypes"
   ]
  },
  {
   "cell_type": "code",
   "execution_count": 64,
   "metadata": {},
   "outputs": [
    {
     "name": "stdout",
     "output_type": "stream",
     "text": [
      "             Age     Rating\n",
      "count  12.000000  12.000000\n",
      "mean   31.833333   3.743333\n",
      "std     9.232682   0.661628\n",
      "min    23.000000   2.560000\n",
      "25%    25.000000   3.230000\n",
      "50%    29.500000   3.790000\n",
      "75%    35.500000   4.132500\n",
      "max    51.000000   4.800000\n"
     ]
    }
   ],
   "source": [
    "print (df.describe())"
   ]
  },
  {
   "cell_type": "code",
   "execution_count": 65,
   "metadata": {},
   "outputs": [
    {
     "name": "stdout",
     "output_type": "stream",
     "text": [
      "       Name\n",
      "count    12\n",
      "unique   12\n",
      "top     Lee\n",
      "freq      1\n"
     ]
    }
   ],
   "source": [
    "import pandas as pd\n",
    "import numpy as np\n",
    "\n",
    "#Create a Dictionary of series\n",
    "d = {'Name':pd.Series(['Tom','James','Ricky','Vin','Steve','Smith','Jack',\n",
    "   'Lee','David','Gasper','Betina','Andres']),\n",
    "   'Age':pd.Series([25,26,25,23,30,29,23,34,40,30,51,46]),\n",
    "   'Rating':pd.Series([4.23,3.24,3.98,2.56,3.20,4.6,3.8,3.78,2.98,4.80,4.10,3.65])}\n",
    "\n",
    "#Create a DataFrame\n",
    "df = pd.DataFrame(d)\n",
    "print (df.describe(include=['object']))"
   ]
  },
  {
   "cell_type": "code",
   "execution_count": 66,
   "metadata": {},
   "outputs": [
    {
     "name": "stdout",
     "output_type": "stream",
     "text": [
      "       Name        Age     Rating\n",
      "count    12  12.000000  12.000000\n",
      "unique   12        NaN        NaN\n",
      "top     Lee        NaN        NaN\n",
      "freq      1        NaN        NaN\n",
      "mean    NaN  31.833333   3.743333\n",
      "std     NaN   9.232682   0.661628\n",
      "min     NaN  23.000000   2.560000\n",
      "25%     NaN  25.000000   3.230000\n",
      "50%     NaN  29.500000   3.790000\n",
      "75%     NaN  35.500000   4.132500\n",
      "max     NaN  51.000000   4.800000\n"
     ]
    }
   ],
   "source": [
    "print (df. describe(include='all'))"
   ]
  },
  {
   "cell_type": "code",
   "execution_count": null,
   "metadata": {},
   "outputs": [],
   "source": []
  },
  {
   "cell_type": "code",
   "execution_count": 74,
   "metadata": {},
   "outputs": [
    {
     "data": {
      "text/html": [
       "<div>\n",
       "<style scoped>\n",
       "    .dataframe tbody tr th:only-of-type {\n",
       "        vertical-align: middle;\n",
       "    }\n",
       "\n",
       "    .dataframe tbody tr th {\n",
       "        vertical-align: top;\n",
       "    }\n",
       "\n",
       "    .dataframe thead th {\n",
       "        text-align: right;\n",
       "    }\n",
       "</style>\n",
       "<table border=\"1\" class=\"dataframe\">\n",
       "  <thead>\n",
       "    <tr style=\"text-align: right;\">\n",
       "      <th></th>\n",
       "      <th>id</th>\n",
       "      <th>diagnosis</th>\n",
       "      <th>radius_mean</th>\n",
       "      <th>texture_mean</th>\n",
       "      <th>perimeter_mean</th>\n",
       "      <th>area_mean</th>\n",
       "      <th>smoothness_mean</th>\n",
       "      <th>compactness_mean</th>\n",
       "      <th>concavity_mean</th>\n",
       "      <th>concave points_mean</th>\n",
       "      <th>...</th>\n",
       "      <th>radius_worst</th>\n",
       "      <th>texture_worst</th>\n",
       "      <th>perimeter_worst</th>\n",
       "      <th>area_worst</th>\n",
       "      <th>smoothness_worst</th>\n",
       "      <th>compactness_worst</th>\n",
       "      <th>concavity_worst</th>\n",
       "      <th>concave points_worst</th>\n",
       "      <th>symmetry_worst</th>\n",
       "      <th>fractal_dimension_worst</th>\n",
       "    </tr>\n",
       "  </thead>\n",
       "  <tbody>\n",
       "    <tr>\n",
       "      <th>0</th>\n",
       "      <td>842302</td>\n",
       "      <td>M</td>\n",
       "      <td>NaN</td>\n",
       "      <td>10.38</td>\n",
       "      <td>122.8</td>\n",
       "      <td>1001.0</td>\n",
       "      <td>0.11840</td>\n",
       "      <td>0.27760</td>\n",
       "      <td>0.3001</td>\n",
       "      <td>0.14710</td>\n",
       "      <td>...</td>\n",
       "      <td>25.38</td>\n",
       "      <td>17.33</td>\n",
       "      <td>184.6</td>\n",
       "      <td>2019.0</td>\n",
       "      <td>0.1622</td>\n",
       "      <td>0.6656</td>\n",
       "      <td>0.7119</td>\n",
       "      <td>0.2654</td>\n",
       "      <td>0.4601</td>\n",
       "      <td>0.11890</td>\n",
       "    </tr>\n",
       "    <tr>\n",
       "      <th>1</th>\n",
       "      <td>842517</td>\n",
       "      <td>M</td>\n",
       "      <td>20.57</td>\n",
       "      <td>17.77</td>\n",
       "      <td>132.9</td>\n",
       "      <td>1326.0</td>\n",
       "      <td>0.08474</td>\n",
       "      <td>0.07864</td>\n",
       "      <td>0.0869</td>\n",
       "      <td>0.07017</td>\n",
       "      <td>...</td>\n",
       "      <td>24.99</td>\n",
       "      <td>23.41</td>\n",
       "      <td>158.8</td>\n",
       "      <td>1956.0</td>\n",
       "      <td>0.1238</td>\n",
       "      <td>0.1866</td>\n",
       "      <td>0.2416</td>\n",
       "      <td>0.1860</td>\n",
       "      <td>0.2750</td>\n",
       "      <td>0.08902</td>\n",
       "    </tr>\n",
       "  </tbody>\n",
       "</table>\n",
       "<p>2 rows × 32 columns</p>\n",
       "</div>"
      ],
      "text/plain": [
       "       id diagnosis  radius_mean  texture_mean  perimeter_mean  area_mean  \\\n",
       "0  842302         M          NaN         10.38           122.8     1001.0   \n",
       "1  842517         M        20.57         17.77           132.9     1326.0   \n",
       "\n",
       "   smoothness_mean  compactness_mean  concavity_mean  concave points_mean  \\\n",
       "0          0.11840           0.27760          0.3001              0.14710   \n",
       "1          0.08474           0.07864          0.0869              0.07017   \n",
       "\n",
       "   ...  radius_worst  texture_worst  perimeter_worst  area_worst  \\\n",
       "0  ...         25.38          17.33            184.6      2019.0   \n",
       "1  ...         24.99          23.41            158.8      1956.0   \n",
       "\n",
       "   smoothness_worst  compactness_worst  concavity_worst  concave points_worst  \\\n",
       "0            0.1622             0.6656           0.7119                0.2654   \n",
       "1            0.1238             0.1866           0.2416                0.1860   \n",
       "\n",
       "   symmetry_worst  fractal_dimension_worst  \n",
       "0          0.4601                  0.11890  \n",
       "1          0.2750                  0.08902  \n",
       "\n",
       "[2 rows x 32 columns]"
      ]
     },
     "execution_count": 74,
     "metadata": {},
     "output_type": "execute_result"
    }
   ],
   "source": [
    "import pandas as pd \n",
    "\n",
    "df = pd.read_csv('cancer.csv')\n",
    "df.head(2)"
   ]
  },
  {
   "cell_type": "code",
   "execution_count": 75,
   "metadata": {},
   "outputs": [
    {
     "data": {
      "text/plain": [
       "['id',\n",
       " 'diagnosis',\n",
       " 'radius_mean',\n",
       " 'texture_mean',\n",
       " 'perimeter_mean',\n",
       " 'area_mean',\n",
       " 'smoothness_mean',\n",
       " 'compactness_mean',\n",
       " 'concavity_mean',\n",
       " 'concave points_mean',\n",
       " 'symmetry_mean',\n",
       " 'fractal_dimension_mean',\n",
       " 'radius_se',\n",
       " 'texture_se',\n",
       " 'perimeter_se',\n",
       " 'area_se',\n",
       " 'smoothness_se',\n",
       " 'compactness_se',\n",
       " 'concavity_se',\n",
       " 'concave points_se',\n",
       " 'symmetry_se',\n",
       " 'fractal_dimension_se',\n",
       " 'radius_worst',\n",
       " 'texture_worst',\n",
       " 'perimeter_worst',\n",
       " 'area_worst',\n",
       " 'smoothness_worst',\n",
       " 'compactness_worst',\n",
       " 'concavity_worst',\n",
       " 'concave points_worst',\n",
       " 'symmetry_worst',\n",
       " 'fractal_dimension_worst']"
      ]
     },
     "execution_count": 75,
     "metadata": {},
     "output_type": "execute_result"
    }
   ],
   "source": [
    "# cols names\n",
    "df.columns.tolist()"
   ]
  },
  {
   "cell_type": "code",
   "execution_count": 76,
   "metadata": {},
   "outputs": [
    {
     "data": {
      "text/plain": [
       "0    M\n",
       "1    M\n",
       "2    M\n",
       "3    M\n",
       "4    M\n",
       "Name: diagnosis, dtype: object"
      ]
     },
     "execution_count": 76,
     "metadata": {},
     "output_type": "execute_result"
    }
   ],
   "source": [
    "df['diagnosis'].head(5)"
   ]
  },
  {
   "cell_type": "code",
   "execution_count": 77,
   "metadata": {},
   "outputs": [
    {
     "data": {
      "text/plain": [
       "564    M\n",
       "565    M\n",
       "566    M\n",
       "567    M\n",
       "568    B\n",
       "Name: diagnosis, dtype: object"
      ]
     },
     "execution_count": 77,
     "metadata": {},
     "output_type": "execute_result"
    }
   ],
   "source": [
    "df['diagnosis'].tail(5)"
   ]
  },
  {
   "cell_type": "code",
   "execution_count": 78,
   "metadata": {},
   "outputs": [
    {
     "data": {
      "text/plain": [
       "id                         0\n",
       "diagnosis                  0\n",
       "radius_mean                1\n",
       "texture_mean               0\n",
       "perimeter_mean             0\n",
       "area_mean                  0\n",
       "smoothness_mean            0\n",
       "compactness_mean           0\n",
       "concavity_mean             0\n",
       "concave points_mean        0\n",
       "symmetry_mean              0\n",
       "fractal_dimension_mean     0\n",
       "radius_se                  0\n",
       "texture_se                 0\n",
       "perimeter_se               0\n",
       "area_se                    1\n",
       "smoothness_se              0\n",
       "compactness_se             0\n",
       "concavity_se               0\n",
       "concave points_se          0\n",
       "symmetry_se                0\n",
       "fractal_dimension_se       0\n",
       "radius_worst               0\n",
       "texture_worst              0\n",
       "perimeter_worst            0\n",
       "area_worst                 0\n",
       "smoothness_worst           0\n",
       "compactness_worst          0\n",
       "concavity_worst            0\n",
       "concave points_worst       0\n",
       "symmetry_worst             0\n",
       "fractal_dimension_worst    0\n",
       "dtype: int64"
      ]
     },
     "execution_count": 78,
     "metadata": {},
     "output_type": "execute_result"
    }
   ],
   "source": [
    "df.isnull().sum()"
   ]
  },
  {
   "cell_type": "code",
   "execution_count": 79,
   "metadata": {},
   "outputs": [
    {
     "data": {
      "text/plain": [
       "B    357\n",
       "M    212\n",
       "Name: diagnosis, dtype: int64"
      ]
     },
     "execution_count": 79,
     "metadata": {},
     "output_type": "execute_result"
    }
   ],
   "source": [
    "df['diagnosis'].value_counts()"
   ]
  },
  {
   "cell_type": "code",
   "execution_count": 80,
   "metadata": {},
   "outputs": [
    {
     "data": {
      "text/plain": [
       "357"
      ]
     },
     "execution_count": 80,
     "metadata": {},
     "output_type": "execute_result"
    }
   ],
   "source": [
    "# frequency of values\n",
    "df['diagnosis'].value_counts()[0]"
   ]
  },
  {
   "cell_type": "code",
   "execution_count": null,
   "metadata": {},
   "outputs": [],
   "source": [
    "# axis=0 means Rows and axis=1 means cols\n",
    "df1=df.drop(['id'],axis=1)\n",
    "df1"
   ]
  },
  {
   "cell_type": "code",
   "execution_count": null,
   "metadata": {},
   "outputs": [],
   "source": [
    "df1.dropna(axis=1,inplace=True)\n",
    "df1"
   ]
  },
  {
   "cell_type": "markdown",
   "metadata": {},
   "source": [
    "## Data frame example for practice"
   ]
  },
  {
   "cell_type": "code",
   "execution_count": null,
   "metadata": {},
   "outputs": [],
   "source": [
    "import pandas as pd"
   ]
  },
  {
   "cell_type": "code",
   "execution_count": null,
   "metadata": {},
   "outputs": [],
   "source": [
    "df = pd.read_csv('sales.csv', index_col='month')\n",
    "df"
   ]
  },
  {
   "cell_type": "code",
   "execution_count": null,
   "metadata": {},
   "outputs": [],
   "source": [
    "df['salt']['Jan']"
   ]
  },
  {
   "cell_type": "code",
   "execution_count": null,
   "metadata": {},
   "outputs": [],
   "source": [
    "df.eggs['Mar']"
   ]
  },
  {
   "cell_type": "code",
   "execution_count": null,
   "metadata": {},
   "outputs": [],
   "source": [
    "df.loc['May', 'spam']"
   ]
  },
  {
   "cell_type": "code",
   "execution_count": null,
   "metadata": {},
   "outputs": [],
   "source": [
    "df.iloc[4, 2]"
   ]
  },
  {
   "cell_type": "code",
   "execution_count": null,
   "metadata": {},
   "outputs": [],
   "source": [
    "df_new = df[['salt','eggs']]\n",
    "df_new"
   ]
  },
  {
   "cell_type": "code",
   "execution_count": null,
   "metadata": {},
   "outputs": [],
   "source": [
    "df"
   ]
  },
  {
   "cell_type": "code",
   "execution_count": null,
   "metadata": {},
   "outputs": [],
   "source": [
    "df['eggs']"
   ]
  },
  {
   "cell_type": "code",
   "execution_count": null,
   "metadata": {},
   "outputs": [],
   "source": [
    "type(df['eggs'])"
   ]
  },
  {
   "cell_type": "code",
   "execution_count": null,
   "metadata": {},
   "outputs": [],
   "source": [
    "df['eggs'][1:4]"
   ]
  },
  {
   "cell_type": "code",
   "execution_count": null,
   "metadata": {},
   "outputs": [],
   "source": [
    "df['eggs'][4]"
   ]
  },
  {
   "cell_type": "code",
   "execution_count": null,
   "metadata": {},
   "outputs": [],
   "source": [
    "df.loc[:, 'eggs':'salt']"
   ]
  },
  {
   "cell_type": "code",
   "execution_count": null,
   "metadata": {},
   "outputs": [],
   "source": [
    "df.loc['Jan':'Apr',:]"
   ]
  },
  {
   "cell_type": "code",
   "execution_count": null,
   "metadata": {},
   "outputs": [],
   "source": [
    "df.loc['Mar':'May', 'salt':'spam']"
   ]
  },
  {
   "cell_type": "code",
   "execution_count": null,
   "metadata": {},
   "outputs": [],
   "source": [
    "df.iloc[2:5, 1:] "
   ]
  },
  {
   "cell_type": "code",
   "execution_count": null,
   "metadata": {},
   "outputs": [],
   "source": [
    "df.loc['Jan':'May', ['eggs', 'spam']]"
   ]
  },
  {
   "cell_type": "code",
   "execution_count": null,
   "metadata": {
    "scrolled": true
   },
   "outputs": [],
   "source": [
    "df.salt > 60"
   ]
  },
  {
   "cell_type": "code",
   "execution_count": null,
   "metadata": {},
   "outputs": [],
   "source": [
    "df[df.salt > 60]"
   ]
  },
  {
   "cell_type": "code",
   "execution_count": null,
   "metadata": {
    "scrolled": true
   },
   "outputs": [],
   "source": [
    "df.loc[:, df.isnull().any()]"
   ]
  },
  {
   "cell_type": "code",
   "execution_count": null,
   "metadata": {},
   "outputs": [],
   "source": [
    "df.loc[:, df.notnull().all()]"
   ]
  },
  {
   "cell_type": "code",
   "execution_count": null,
   "metadata": {},
   "outputs": [],
   "source": [
    "df.dropna(how='any')"
   ]
  },
  {
   "cell_type": "code",
   "execution_count": null,
   "metadata": {},
   "outputs": [],
   "source": [
    "df.eggs[df.salt > 55]"
   ]
  },
  {
   "cell_type": "code",
   "execution_count": null,
   "metadata": {},
   "outputs": [],
   "source": []
  }
 ],
 "metadata": {
  "kernelspec": {
   "display_name": "Python 3",
   "language": "python",
   "name": "python3"
  },
  "language_info": {
   "codemirror_mode": {
    "name": "ipython",
    "version": 3
   },
   "file_extension": ".py",
   "mimetype": "text/x-python",
   "name": "python",
   "nbconvert_exporter": "python",
   "pygments_lexer": "ipython3",
   "version": "3.7.6"
  }
 },
 "nbformat": 4,
 "nbformat_minor": 2
}
